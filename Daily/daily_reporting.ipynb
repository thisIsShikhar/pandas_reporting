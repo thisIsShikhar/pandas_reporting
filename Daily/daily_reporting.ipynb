{
 "cells": [
  {
   "cell_type": "code",
   "execution_count": 1,
   "metadata": {},
   "outputs": [],
   "source": [
    "import numpy as np\n",
    "import pandas as pd\n",
    "from datetime import datetime, timedelta"
   ]
  },
  {
   "cell_type": "code",
   "execution_count": 2,
   "metadata": {},
   "outputs": [],
   "source": [
    "df = pd.read_csv(\"../nt_data/logs/attendance-2021-02-01.csv\", names=['id', 'datetime', 'distance', 'emotion'])"
   ]
  },
  {
   "cell_type": "code",
   "execution_count": 3,
   "metadata": {},
   "outputs": [
    {
     "output_type": "execute_result",
     "data": {
      "text/plain": [
       "             id                    datetime  distance  emotion\n",
       "1007  Umme Hani  2021-02-01 11:26:06.528505  0.739909  neutral\n",
       "1007  Umme Hani  2021-02-01 11:26:07.252654  0.748936  neutral\n",
       "1007  Umme Hani  2021-02-01 11:26:07.461598  0.745613  neutral\n",
       "1007  Umme Hani  2021-02-01 11:26:07.575653  0.749254  neutral\n",
       "1007  Umme Hani  2021-02-01 11:26:08.249940  0.747589  neutral"
      ],
      "text/html": "<div>\n<style scoped>\n    .dataframe tbody tr th:only-of-type {\n        vertical-align: middle;\n    }\n\n    .dataframe tbody tr th {\n        vertical-align: top;\n    }\n\n    .dataframe thead th {\n        text-align: right;\n    }\n</style>\n<table border=\"1\" class=\"dataframe\">\n  <thead>\n    <tr style=\"text-align: right;\">\n      <th></th>\n      <th>id</th>\n      <th>datetime</th>\n      <th>distance</th>\n      <th>emotion</th>\n    </tr>\n  </thead>\n  <tbody>\n    <tr>\n      <th>1007</th>\n      <td>Umme Hani</td>\n      <td>2021-02-01 11:26:06.528505</td>\n      <td>0.739909</td>\n      <td>neutral</td>\n    </tr>\n    <tr>\n      <th>1007</th>\n      <td>Umme Hani</td>\n      <td>2021-02-01 11:26:07.252654</td>\n      <td>0.748936</td>\n      <td>neutral</td>\n    </tr>\n    <tr>\n      <th>1007</th>\n      <td>Umme Hani</td>\n      <td>2021-02-01 11:26:07.461598</td>\n      <td>0.745613</td>\n      <td>neutral</td>\n    </tr>\n    <tr>\n      <th>1007</th>\n      <td>Umme Hani</td>\n      <td>2021-02-01 11:26:07.575653</td>\n      <td>0.749254</td>\n      <td>neutral</td>\n    </tr>\n    <tr>\n      <th>1007</th>\n      <td>Umme Hani</td>\n      <td>2021-02-01 11:26:08.249940</td>\n      <td>0.747589</td>\n      <td>neutral</td>\n    </tr>\n  </tbody>\n</table>\n</div>"
     },
     "metadata": {},
     "execution_count": 3
    }
   ],
   "source": [
    "df.head()"
   ]
  },
  {
   "cell_type": "code",
   "execution_count": 6,
   "metadata": {},
   "outputs": [
    {
     "output_type": "stream",
     "name": "stdout",
     "text": [
      "<class 'pandas.core.frame.DataFrame'>\nRangeIndex: 473 entries, 0 to 472\nData columns (total 4 columns):\n #   Column    Non-Null Count  Dtype  \n---  ------    --------------  -----  \n 0   id        473 non-null    int64  \n 1   datetime  473 non-null    object \n 2   distance  473 non-null    float64\n 3   emotion   473 non-null    object \ndtypes: float64(1), int64(1), object(2)\nmemory usage: 14.9+ KB\n"
     ]
    }
   ],
   "source": [
    "df.info()"
   ]
  },
  {
   "cell_type": "markdown",
   "metadata": {},
   "source": [
    "# ToDo\n",
    "* Daily Report\n",
    "** Employee Id\n",
    "** First Punch\n",
    "** Last Punch\n",
    "** Spent hours\n",
    "** Percentile\n",
    "** Emotion"
   ]
  },
  {
   "cell_type": "code",
   "execution_count": 4,
   "metadata": {},
   "outputs": [
    {
     "output_type": "stream",
     "name": "stdout",
     "text": [
      "<class 'pandas.core.frame.DataFrame'>\nInt64Index: 311 entries, 1007 to 1018\nData columns (total 5 columns):\n #   Column    Non-Null Count  Dtype         \n---  ------    --------------  -----         \n 0   id        311 non-null    object        \n 1   datetime  311 non-null    datetime64[ns]\n 2   distance  311 non-null    float64       \n 3   emotion   311 non-null    object        \n 4   date      311 non-null    object        \ndtypes: datetime64[ns](1), float64(1), object(3)\nmemory usage: 14.6+ KB\n"
     ]
    }
   ],
   "source": [
    "# cleaning the dataset\n",
    "df.dropna(inplace=True)\n",
    "df.drop_duplicates(inplace=True)\n",
    "# converting 'datetime' to pandas datetime series\n",
    "df['datetime'] = pd.to_datetime(df['datetime'])\n",
    "df.sort_values(by='datetime', inplace=True)\n",
    "df['date'] = df['datetime'].apply(lambda x: x.date())\n",
    "df.info()"
   ]
  },
  {
   "cell_type": "code",
   "execution_count": 5,
   "metadata": {},
   "outputs": [
    {
     "output_type": "execute_result",
     "data": {
      "text/plain": [
       "             id                   datetime  distance  emotion        date\n",
       "1007  Umme Hani 2021-02-01 11:26:06.528505  0.739909  neutral  2021-02-01\n",
       "1007  Umme Hani 2021-02-01 11:26:07.252654  0.748936  neutral  2021-02-01\n",
       "1007  Umme Hani 2021-02-01 11:26:07.461598  0.745613  neutral  2021-02-01\n",
       "1007  Umme Hani 2021-02-01 11:26:07.575653  0.749254  neutral  2021-02-01\n",
       "1007  Umme Hani 2021-02-01 11:26:08.249940  0.747589  neutral  2021-02-01"
      ],
      "text/html": "<div>\n<style scoped>\n    .dataframe tbody tr th:only-of-type {\n        vertical-align: middle;\n    }\n\n    .dataframe tbody tr th {\n        vertical-align: top;\n    }\n\n    .dataframe thead th {\n        text-align: right;\n    }\n</style>\n<table border=\"1\" class=\"dataframe\">\n  <thead>\n    <tr style=\"text-align: right;\">\n      <th></th>\n      <th>id</th>\n      <th>datetime</th>\n      <th>distance</th>\n      <th>emotion</th>\n      <th>date</th>\n    </tr>\n  </thead>\n  <tbody>\n    <tr>\n      <th>1007</th>\n      <td>Umme Hani</td>\n      <td>2021-02-01 11:26:06.528505</td>\n      <td>0.739909</td>\n      <td>neutral</td>\n      <td>2021-02-01</td>\n    </tr>\n    <tr>\n      <th>1007</th>\n      <td>Umme Hani</td>\n      <td>2021-02-01 11:26:07.252654</td>\n      <td>0.748936</td>\n      <td>neutral</td>\n      <td>2021-02-01</td>\n    </tr>\n    <tr>\n      <th>1007</th>\n      <td>Umme Hani</td>\n      <td>2021-02-01 11:26:07.461598</td>\n      <td>0.745613</td>\n      <td>neutral</td>\n      <td>2021-02-01</td>\n    </tr>\n    <tr>\n      <th>1007</th>\n      <td>Umme Hani</td>\n      <td>2021-02-01 11:26:07.575653</td>\n      <td>0.749254</td>\n      <td>neutral</td>\n      <td>2021-02-01</td>\n    </tr>\n    <tr>\n      <th>1007</th>\n      <td>Umme Hani</td>\n      <td>2021-02-01 11:26:08.249940</td>\n      <td>0.747589</td>\n      <td>neutral</td>\n      <td>2021-02-01</td>\n    </tr>\n  </tbody>\n</table>\n</div>"
     },
     "metadata": {},
     "execution_count": 5
    }
   ],
   "source": [
    "df.head()"
   ]
  },
  {
   "cell_type": "code",
   "execution_count": 9,
   "metadata": {},
   "outputs": [],
   "source": [
    "gdf = df.groupby('id')"
   ]
  },
  {
   "cell_type": "code",
   "execution_count": 10,
   "metadata": {},
   "outputs": [],
   "source": [
    "report = gdf.first()"
   ]
  },
  {
   "cell_type": "code",
   "execution_count": 11,
   "metadata": {},
   "outputs": [],
   "source": [
    "report.rename(columns={'datetime': 'first_punch'}, inplace=True)"
   ]
  },
  {
   "cell_type": "code",
   "execution_count": 12,
   "metadata": {},
   "outputs": [],
   "source": [
    "report['last_punch'] =gdf.last()['datetime']"
   ]
  },
  {
   "cell_type": "code",
   "execution_count": 13,
   "metadata": {},
   "outputs": [],
   "source": [
    "report['timedelta'] = report['last_punch'] - report['first_punch']"
   ]
  },
  {
   "cell_type": "code",
   "execution_count": 14,
   "metadata": {},
   "outputs": [],
   "source": [
    "report['spent'] = report['timedelta'].apply(lambda x: (datetime.fromisoformat(\"1990-01-01\") + x).strftime(\"%H:%M:%S\"))"
   ]
  },
  {
   "cell_type": "code",
   "execution_count": 15,
   "metadata": {},
   "outputs": [],
   "source": [
    "report['percentile'] = report['timedelta'].apply(lambda x: int(((x.total_seconds()) / (8*3600)) * 100))"
   ]
  },
  {
   "cell_type": "code",
   "execution_count": 16,
   "metadata": {},
   "outputs": [],
   "source": [
    "report = report.drop(['distance', 'timedelta'], axis=1)"
   ]
  },
  {
   "cell_type": "code",
   "execution_count": 17,
   "metadata": {},
   "outputs": [],
   "source": [
    "def get_remarks(time):\n",
    "    time = time.to_pydatetime().time()\n",
    "    remark = None\n",
    "    # predefined time constraints\n",
    "    in_time = datetime.strptime('11:30:59', '%H:%M:%S').time()\n",
    "    late_start = datetime.strptime('11:31:00', '%H:%M:%S').time()\n",
    "    late_end = datetime.strptime('13:00:59', '%H:%M:%S').time()\n",
    "    half_start = datetime.strptime('13:01:00', '%H:%M:%S').time()\n",
    "    half_end = datetime.strptime('15:30:59', '%H:%M:%S').time()\n",
    "    late_half_start = datetime.strptime('15:31:00', '%H:%M:%S').time()\n",
    "    late_half_end = datetime.strptime('16:30:59', '%H:%M:%S').time()\n",
    "    absent_time = datetime.strptime('16:31:00', '%H:%M:%S').time()\n",
    "\n",
    "    # in time\n",
    "    if time > absent_time:\n",
    "        remark = 'Absent'\n",
    "    if late_half_start <= time <= late_half_end:\n",
    "        remark = 'Late Half'\n",
    "    if half_start <= time <= half_end:\n",
    "        remark = 'Half Day'\n",
    "    if late_start <= time <= late_end:\n",
    "        remark = 'Late'\n",
    "    if time <= in_time:\n",
    "        remark = 'Normal'\n",
    "\n",
    "    return remark\n",
    "\n",
    "def calculate_deficiency(spent):\n",
    "    actual_hour = datetime.strptime('08:00:00', '%H:%M:%S')\n",
    "    spent = datetime.strptime(spent, '%H:%M:%S')\n",
    "    deficit = actual_hour - spent\n",
    "\n",
    "    deficit_td = (datetime.fromisoformat(\"1990-01-01\") + deficit).strftime(\"%H:%M:%S\")\\\n",
    "                 if deficit.days >= 0 else (datetime.fromisoformat(\"1990-01-01\") + timedelta(0)).strftime(\"%H:%M:%S\")\n",
    "    return deficit_td"
   ]
  },
  {
   "cell_type": "code",
   "execution_count": 18,
   "metadata": {},
   "outputs": [],
   "source": [
    "report['remarks'] = report['first_punch'].apply(lambda x: get_remarks(x))"
   ]
  },
  {
   "cell_type": "code",
   "execution_count": 19,
   "metadata": {},
   "outputs": [],
   "source": [
    "report['first_punch'] = report['first_punch'].apply(lambda x: x.strftime(\"%H:%M:%S\"))\n",
    "report['last_punch'] = report['last_punch'].apply(lambda x: x.strftime(\"%H:%M:%S\"))\n",
    "report['deficiency'] = report['spent'].apply(lambda x: calculate_deficiency(x))"
   ]
  },
  {
   "cell_type": "code",
   "execution_count": 20,
   "metadata": {},
   "outputs": [
    {
     "output_type": "execute_result",
     "data": {
      "text/plain": [
       "      first_punch  emotion        date last_punch     spent  percentile  \\\n",
       "id                                                                        \n",
       "102      11:27:35  neutral  2021-01-19   19:33:55  08:06:20         101   \n",
       "105      11:21:54  neutral  2021-01-19   13:21:56  02:00:01          25   \n",
       "1001     11:03:07    angry  2021-01-19   11:03:10  00:00:03           0   \n",
       "1002     11:09:33  neutral  2021-01-19   19:25:42  08:16:08         103   \n",
       "1007     11:27:18      sad  2021-01-19   19:34:03  08:06:44         101   \n",
       "1011     11:37:54     fear  2021-01-19   15:59:21  04:21:26          54   \n",
       "1014     11:47:27  neutral  2021-01-19   19:31:12  07:43:45          96   \n",
       "1015     11:37:54     fear  2021-01-19   17:59:31  06:21:36          79   \n",
       "1017     11:58:27     fear  2021-01-19   11:58:31  00:00:04           0   \n",
       "1018     11:37:48    angry  2021-01-19   13:21:20  01:43:31          21   \n",
       "1019     11:25:59      sad  2021-01-19   11:26:13  00:00:14           0   \n",
       "20201    11:03:20  neutral  2021-01-19   17:59:26  06:56:06          86   \n",
       "\n",
       "      remarks deficiency  \n",
       "id                        \n",
       "102    Normal   00:00:00  \n",
       "105    Normal   05:59:59  \n",
       "1001   Normal   07:59:57  \n",
       "1002   Normal   00:00:00  \n",
       "1007   Normal   00:00:00  \n",
       "1011     Late   03:38:34  \n",
       "1014     Late   00:16:15  \n",
       "1015     Late   01:38:24  \n",
       "1017     Late   07:59:56  \n",
       "1018     Late   06:16:29  \n",
       "1019   Normal   07:59:46  \n",
       "20201  Normal   01:03:54  "
      ],
      "text/html": "<div>\n<style scoped>\n    .dataframe tbody tr th:only-of-type {\n        vertical-align: middle;\n    }\n\n    .dataframe tbody tr th {\n        vertical-align: top;\n    }\n\n    .dataframe thead th {\n        text-align: right;\n    }\n</style>\n<table border=\"1\" class=\"dataframe\">\n  <thead>\n    <tr style=\"text-align: right;\">\n      <th></th>\n      <th>first_punch</th>\n      <th>emotion</th>\n      <th>date</th>\n      <th>last_punch</th>\n      <th>spent</th>\n      <th>percentile</th>\n      <th>remarks</th>\n      <th>deficiency</th>\n    </tr>\n    <tr>\n      <th>id</th>\n      <th></th>\n      <th></th>\n      <th></th>\n      <th></th>\n      <th></th>\n      <th></th>\n      <th></th>\n      <th></th>\n    </tr>\n  </thead>\n  <tbody>\n    <tr>\n      <th>102</th>\n      <td>11:27:35</td>\n      <td>neutral</td>\n      <td>2021-01-19</td>\n      <td>19:33:55</td>\n      <td>08:06:20</td>\n      <td>101</td>\n      <td>Normal</td>\n      <td>00:00:00</td>\n    </tr>\n    <tr>\n      <th>105</th>\n      <td>11:21:54</td>\n      <td>neutral</td>\n      <td>2021-01-19</td>\n      <td>13:21:56</td>\n      <td>02:00:01</td>\n      <td>25</td>\n      <td>Normal</td>\n      <td>05:59:59</td>\n    </tr>\n    <tr>\n      <th>1001</th>\n      <td>11:03:07</td>\n      <td>angry</td>\n      <td>2021-01-19</td>\n      <td>11:03:10</td>\n      <td>00:00:03</td>\n      <td>0</td>\n      <td>Normal</td>\n      <td>07:59:57</td>\n    </tr>\n    <tr>\n      <th>1002</th>\n      <td>11:09:33</td>\n      <td>neutral</td>\n      <td>2021-01-19</td>\n      <td>19:25:42</td>\n      <td>08:16:08</td>\n      <td>103</td>\n      <td>Normal</td>\n      <td>00:00:00</td>\n    </tr>\n    <tr>\n      <th>1007</th>\n      <td>11:27:18</td>\n      <td>sad</td>\n      <td>2021-01-19</td>\n      <td>19:34:03</td>\n      <td>08:06:44</td>\n      <td>101</td>\n      <td>Normal</td>\n      <td>00:00:00</td>\n    </tr>\n    <tr>\n      <th>1011</th>\n      <td>11:37:54</td>\n      <td>fear</td>\n      <td>2021-01-19</td>\n      <td>15:59:21</td>\n      <td>04:21:26</td>\n      <td>54</td>\n      <td>Late</td>\n      <td>03:38:34</td>\n    </tr>\n    <tr>\n      <th>1014</th>\n      <td>11:47:27</td>\n      <td>neutral</td>\n      <td>2021-01-19</td>\n      <td>19:31:12</td>\n      <td>07:43:45</td>\n      <td>96</td>\n      <td>Late</td>\n      <td>00:16:15</td>\n    </tr>\n    <tr>\n      <th>1015</th>\n      <td>11:37:54</td>\n      <td>fear</td>\n      <td>2021-01-19</td>\n      <td>17:59:31</td>\n      <td>06:21:36</td>\n      <td>79</td>\n      <td>Late</td>\n      <td>01:38:24</td>\n    </tr>\n    <tr>\n      <th>1017</th>\n      <td>11:58:27</td>\n      <td>fear</td>\n      <td>2021-01-19</td>\n      <td>11:58:31</td>\n      <td>00:00:04</td>\n      <td>0</td>\n      <td>Late</td>\n      <td>07:59:56</td>\n    </tr>\n    <tr>\n      <th>1018</th>\n      <td>11:37:48</td>\n      <td>angry</td>\n      <td>2021-01-19</td>\n      <td>13:21:20</td>\n      <td>01:43:31</td>\n      <td>21</td>\n      <td>Late</td>\n      <td>06:16:29</td>\n    </tr>\n    <tr>\n      <th>1019</th>\n      <td>11:25:59</td>\n      <td>sad</td>\n      <td>2021-01-19</td>\n      <td>11:26:13</td>\n      <td>00:00:14</td>\n      <td>0</td>\n      <td>Normal</td>\n      <td>07:59:46</td>\n    </tr>\n    <tr>\n      <th>20201</th>\n      <td>11:03:20</td>\n      <td>neutral</td>\n      <td>2021-01-19</td>\n      <td>17:59:26</td>\n      <td>06:56:06</td>\n      <td>86</td>\n      <td>Normal</td>\n      <td>01:03:54</td>\n    </tr>\n  </tbody>\n</table>\n</div>"
     },
     "metadata": {},
     "execution_count": 20
    }
   ],
   "source": [
    "report"
   ]
  },
  {
   "cell_type": "code",
   "execution_count": 21,
   "metadata": {},
   "outputs": [],
   "source": [
    "report.reset_index(inplace=True)"
   ]
  },
  {
   "cell_type": "code",
   "execution_count": 22,
   "metadata": {},
   "outputs": [],
   "source": [
    "report = report[['id', 'date', 'first_punch', 'last_punch', 'spent',  'deficiency', 'percentile', 'remarks']]"
   ]
  },
  {
   "cell_type": "code",
   "execution_count": 23,
   "metadata": {},
   "outputs": [
    {
     "output_type": "execute_result",
     "data": {
      "text/plain": [
       "       id        date first_punch last_punch     spent deficiency  percentile  \\\n",
       "0     102  2021-01-19    11:27:35   19:33:55  08:06:20   00:00:00         101   \n",
       "1     105  2021-01-19    11:21:54   13:21:56  02:00:01   05:59:59          25   \n",
       "2    1001  2021-01-19    11:03:07   11:03:10  00:00:03   07:59:57           0   \n",
       "3    1002  2021-01-19    11:09:33   19:25:42  08:16:08   00:00:00         103   \n",
       "4    1007  2021-01-19    11:27:18   19:34:03  08:06:44   00:00:00         101   \n",
       "5    1011  2021-01-19    11:37:54   15:59:21  04:21:26   03:38:34          54   \n",
       "6    1014  2021-01-19    11:47:27   19:31:12  07:43:45   00:16:15          96   \n",
       "7    1015  2021-01-19    11:37:54   17:59:31  06:21:36   01:38:24          79   \n",
       "8    1017  2021-01-19    11:58:27   11:58:31  00:00:04   07:59:56           0   \n",
       "9    1018  2021-01-19    11:37:48   13:21:20  01:43:31   06:16:29          21   \n",
       "10   1019  2021-01-19    11:25:59   11:26:13  00:00:14   07:59:46           0   \n",
       "11  20201  2021-01-19    11:03:20   17:59:26  06:56:06   01:03:54          86   \n",
       "\n",
       "   remarks  \n",
       "0   Normal  \n",
       "1   Normal  \n",
       "2   Normal  \n",
       "3   Normal  \n",
       "4   Normal  \n",
       "5     Late  \n",
       "6     Late  \n",
       "7     Late  \n",
       "8     Late  \n",
       "9     Late  \n",
       "10  Normal  \n",
       "11  Normal  "
      ],
      "text/html": "<div>\n<style scoped>\n    .dataframe tbody tr th:only-of-type {\n        vertical-align: middle;\n    }\n\n    .dataframe tbody tr th {\n        vertical-align: top;\n    }\n\n    .dataframe thead th {\n        text-align: right;\n    }\n</style>\n<table border=\"1\" class=\"dataframe\">\n  <thead>\n    <tr style=\"text-align: right;\">\n      <th></th>\n      <th>id</th>\n      <th>date</th>\n      <th>first_punch</th>\n      <th>last_punch</th>\n      <th>spent</th>\n      <th>deficiency</th>\n      <th>percentile</th>\n      <th>remarks</th>\n    </tr>\n  </thead>\n  <tbody>\n    <tr>\n      <th>0</th>\n      <td>102</td>\n      <td>2021-01-19</td>\n      <td>11:27:35</td>\n      <td>19:33:55</td>\n      <td>08:06:20</td>\n      <td>00:00:00</td>\n      <td>101</td>\n      <td>Normal</td>\n    </tr>\n    <tr>\n      <th>1</th>\n      <td>105</td>\n      <td>2021-01-19</td>\n      <td>11:21:54</td>\n      <td>13:21:56</td>\n      <td>02:00:01</td>\n      <td>05:59:59</td>\n      <td>25</td>\n      <td>Normal</td>\n    </tr>\n    <tr>\n      <th>2</th>\n      <td>1001</td>\n      <td>2021-01-19</td>\n      <td>11:03:07</td>\n      <td>11:03:10</td>\n      <td>00:00:03</td>\n      <td>07:59:57</td>\n      <td>0</td>\n      <td>Normal</td>\n    </tr>\n    <tr>\n      <th>3</th>\n      <td>1002</td>\n      <td>2021-01-19</td>\n      <td>11:09:33</td>\n      <td>19:25:42</td>\n      <td>08:16:08</td>\n      <td>00:00:00</td>\n      <td>103</td>\n      <td>Normal</td>\n    </tr>\n    <tr>\n      <th>4</th>\n      <td>1007</td>\n      <td>2021-01-19</td>\n      <td>11:27:18</td>\n      <td>19:34:03</td>\n      <td>08:06:44</td>\n      <td>00:00:00</td>\n      <td>101</td>\n      <td>Normal</td>\n    </tr>\n    <tr>\n      <th>5</th>\n      <td>1011</td>\n      <td>2021-01-19</td>\n      <td>11:37:54</td>\n      <td>15:59:21</td>\n      <td>04:21:26</td>\n      <td>03:38:34</td>\n      <td>54</td>\n      <td>Late</td>\n    </tr>\n    <tr>\n      <th>6</th>\n      <td>1014</td>\n      <td>2021-01-19</td>\n      <td>11:47:27</td>\n      <td>19:31:12</td>\n      <td>07:43:45</td>\n      <td>00:16:15</td>\n      <td>96</td>\n      <td>Late</td>\n    </tr>\n    <tr>\n      <th>7</th>\n      <td>1015</td>\n      <td>2021-01-19</td>\n      <td>11:37:54</td>\n      <td>17:59:31</td>\n      <td>06:21:36</td>\n      <td>01:38:24</td>\n      <td>79</td>\n      <td>Late</td>\n    </tr>\n    <tr>\n      <th>8</th>\n      <td>1017</td>\n      <td>2021-01-19</td>\n      <td>11:58:27</td>\n      <td>11:58:31</td>\n      <td>00:00:04</td>\n      <td>07:59:56</td>\n      <td>0</td>\n      <td>Late</td>\n    </tr>\n    <tr>\n      <th>9</th>\n      <td>1018</td>\n      <td>2021-01-19</td>\n      <td>11:37:48</td>\n      <td>13:21:20</td>\n      <td>01:43:31</td>\n      <td>06:16:29</td>\n      <td>21</td>\n      <td>Late</td>\n    </tr>\n    <tr>\n      <th>10</th>\n      <td>1019</td>\n      <td>2021-01-19</td>\n      <td>11:25:59</td>\n      <td>11:26:13</td>\n      <td>00:00:14</td>\n      <td>07:59:46</td>\n      <td>0</td>\n      <td>Normal</td>\n    </tr>\n    <tr>\n      <th>11</th>\n      <td>20201</td>\n      <td>2021-01-19</td>\n      <td>11:03:20</td>\n      <td>17:59:26</td>\n      <td>06:56:06</td>\n      <td>01:03:54</td>\n      <td>86</td>\n      <td>Normal</td>\n    </tr>\n  </tbody>\n</table>\n</div>"
     },
     "metadata": {},
     "execution_count": 23
    }
   ],
   "source": [
    "report.reset_index(drop=True)"
   ]
  },
  {
   "cell_type": "code",
   "execution_count": 24,
   "metadata": {},
   "outputs": [],
   "source": [
    "report.to_csv('../app/media/report.csv')"
   ]
  },
  {
   "cell_type": "code",
   "execution_count": 28,
   "metadata": {},
   "outputs": [],
   "source": [
    "di = dict(report.iterrows())"
   ]
  },
  {
   "cell_type": "code",
   "execution_count": 39,
   "metadata": {},
   "outputs": [],
   "source": [
    "data = [dict(x) for x in di.values()]"
   ]
  },
  {
   "cell_type": "code",
   "execution_count": null,
   "metadata": {},
   "outputs": [],
   "source": []
  }
 ],
 "metadata": {
  "kernelspec": {
   "display_name": "Python 3",
   "language": "python",
   "name": "python3"
  },
  "language_info": {
   "codemirror_mode": {
    "name": "ipython",
    "version": 3
   },
   "file_extension": ".py",
   "mimetype": "text/x-python",
   "name": "python",
   "nbconvert_exporter": "python",
   "pygments_lexer": "ipython3",
   "version": "3.8.5-final"
  }
 },
 "nbformat": 4,
 "nbformat_minor": 4
}