{
 "metadata": {
  "language_info": {
   "codemirror_mode": {
    "name": "ipython",
    "version": 3
   },
   "file_extension": ".py",
   "mimetype": "text/x-python",
   "name": "python",
   "nbconvert_exporter": "python",
   "pygments_lexer": "ipython3",
   "version": "3.8.5-final"
  },
  "orig_nbformat": 2,
  "kernelspec": {
   "name": "python3",
   "display_name": "Python 3",
   "language": "python"
  }
 },
 "nbformat": 4,
 "nbformat_minor": 2,
 "cells": [
  {
   "cell_type": "code",
   "execution_count": 82,
   "metadata": {},
   "outputs": [],
   "source": [
    "import numpy as np\n",
    "import pandas as pd\n",
    "from datetime import datetime, timedelta"
   ]
  },
  {
   "cell_type": "code",
   "execution_count": 83,
   "metadata": {},
   "outputs": [],
   "source": [
    "df=pd.read_csv('/home/mohammad/Desktop/Git Workspace/pandas_reporting/nt_data/logs/attendance-2021-02-01.csv',names=['id', 'name', 'datetime', 'distance', 'emotion'])"
   ]
  },
  {
   "cell_type": "code",
   "execution_count": 84,
   "metadata": {},
   "outputs": [
    {
     "output_type": "execute_result",
     "data": {
      "text/plain": [
       "     id       name                    datetime  distance  emotion\n",
       "0  1007  Umme Hani  2021-02-01 11:26:06.528505  0.739909  neutral\n",
       "1  1007  Umme Hani  2021-02-01 11:26:07.252654  0.748936  neutral\n",
       "2  1007  Umme Hani  2021-02-01 11:26:07.461598  0.745613  neutral\n",
       "3  1007  Umme Hani  2021-02-01 11:26:07.575653  0.749254  neutral\n",
       "4  1007  Umme Hani  2021-02-01 11:26:08.249940  0.747589  neutral"
      ],
      "text/html": "<div>\n<style scoped>\n    .dataframe tbody tr th:only-of-type {\n        vertical-align: middle;\n    }\n\n    .dataframe tbody tr th {\n        vertical-align: top;\n    }\n\n    .dataframe thead th {\n        text-align: right;\n    }\n</style>\n<table border=\"1\" class=\"dataframe\">\n  <thead>\n    <tr style=\"text-align: right;\">\n      <th></th>\n      <th>id</th>\n      <th>name</th>\n      <th>datetime</th>\n      <th>distance</th>\n      <th>emotion</th>\n    </tr>\n  </thead>\n  <tbody>\n    <tr>\n      <th>0</th>\n      <td>1007</td>\n      <td>Umme Hani</td>\n      <td>2021-02-01 11:26:06.528505</td>\n      <td>0.739909</td>\n      <td>neutral</td>\n    </tr>\n    <tr>\n      <th>1</th>\n      <td>1007</td>\n      <td>Umme Hani</td>\n      <td>2021-02-01 11:26:07.252654</td>\n      <td>0.748936</td>\n      <td>neutral</td>\n    </tr>\n    <tr>\n      <th>2</th>\n      <td>1007</td>\n      <td>Umme Hani</td>\n      <td>2021-02-01 11:26:07.461598</td>\n      <td>0.745613</td>\n      <td>neutral</td>\n    </tr>\n    <tr>\n      <th>3</th>\n      <td>1007</td>\n      <td>Umme Hani</td>\n      <td>2021-02-01 11:26:07.575653</td>\n      <td>0.749254</td>\n      <td>neutral</td>\n    </tr>\n    <tr>\n      <th>4</th>\n      <td>1007</td>\n      <td>Umme Hani</td>\n      <td>2021-02-01 11:26:08.249940</td>\n      <td>0.747589</td>\n      <td>neutral</td>\n    </tr>\n  </tbody>\n</table>\n</div>"
     },
     "metadata": {},
     "execution_count": 84
    }
   ],
   "source": [
    "df.head()"
   ]
  },
  {
   "cell_type": "code",
   "execution_count": 85,
   "metadata": {},
   "outputs": [
    {
     "output_type": "stream",
     "name": "stdout",
     "text": [
      "<class 'pandas.core.frame.DataFrame'>\nRangeIndex: 311 entries, 0 to 310\nData columns (total 5 columns):\n #   Column    Non-Null Count  Dtype  \n---  ------    --------------  -----  \n 0   id        311 non-null    int64  \n 1   name      311 non-null    object \n 2   datetime  311 non-null    object \n 3   distance  311 non-null    float64\n 4   emotion   311 non-null    object \ndtypes: float64(1), int64(1), object(3)\nmemory usage: 12.3+ KB\n"
     ]
    }
   ],
   "source": [
    "df.info()"
   ]
  },
  {
   "cell_type": "code",
   "execution_count": 86,
   "metadata": {},
   "outputs": [],
   "source": [
    "df.dropna(inplace=True)\n",
    "df.drop_duplicates(inplace=True)"
   ]
  },
  {
   "cell_type": "code",
   "execution_count": 87,
   "metadata": {},
   "outputs": [],
   "source": [
    "df['datetime'] = pd.to_datetime(df['datetime'])\n",
    "df.sort_values(by='datetime', inplace=True)"
   ]
  },
  {
   "cell_type": "code",
   "execution_count": 88,
   "metadata": {},
   "outputs": [
    {
     "output_type": "stream",
     "name": "stdout",
     "text": [
      "<class 'pandas.core.frame.DataFrame'>\nInt64Index: 311 entries, 0 to 310\nData columns (total 6 columns):\n #   Column    Non-Null Count  Dtype         \n---  ------    --------------  -----         \n 0   id        311 non-null    int64         \n 1   name      311 non-null    object        \n 2   datetime  311 non-null    datetime64[ns]\n 3   distance  311 non-null    float64       \n 4   emotion   311 non-null    object        \n 5   date      311 non-null    object        \ndtypes: datetime64[ns](1), float64(1), int64(1), object(3)\nmemory usage: 17.0+ KB\n"
     ]
    }
   ],
   "source": [
    "df['date'] = df['datetime'].apply(lambda x: x.date())   #nts\n",
    "df.info()"
   ]
  },
  {
   "cell_type": "code",
   "execution_count": 89,
   "metadata": {},
   "outputs": [
    {
     "output_type": "execute_result",
     "data": {
      "text/plain": [
       "     id       name                   datetime  distance  emotion        date\n",
       "0  1007  Umme Hani 2021-02-01 11:26:06.528505  0.739909  neutral  2021-02-01\n",
       "1  1007  Umme Hani 2021-02-01 11:26:07.252654  0.748936  neutral  2021-02-01\n",
       "2  1007  Umme Hani 2021-02-01 11:26:07.461598  0.745613  neutral  2021-02-01\n",
       "3  1007  Umme Hani 2021-02-01 11:26:07.575653  0.749254  neutral  2021-02-01\n",
       "4  1007  Umme Hani 2021-02-01 11:26:08.249940  0.747589  neutral  2021-02-01"
      ],
      "text/html": "<div>\n<style scoped>\n    .dataframe tbody tr th:only-of-type {\n        vertical-align: middle;\n    }\n\n    .dataframe tbody tr th {\n        vertical-align: top;\n    }\n\n    .dataframe thead th {\n        text-align: right;\n    }\n</style>\n<table border=\"1\" class=\"dataframe\">\n  <thead>\n    <tr style=\"text-align: right;\">\n      <th></th>\n      <th>id</th>\n      <th>name</th>\n      <th>datetime</th>\n      <th>distance</th>\n      <th>emotion</th>\n      <th>date</th>\n    </tr>\n  </thead>\n  <tbody>\n    <tr>\n      <th>0</th>\n      <td>1007</td>\n      <td>Umme Hani</td>\n      <td>2021-02-01 11:26:06.528505</td>\n      <td>0.739909</td>\n      <td>neutral</td>\n      <td>2021-02-01</td>\n    </tr>\n    <tr>\n      <th>1</th>\n      <td>1007</td>\n      <td>Umme Hani</td>\n      <td>2021-02-01 11:26:07.252654</td>\n      <td>0.748936</td>\n      <td>neutral</td>\n      <td>2021-02-01</td>\n    </tr>\n    <tr>\n      <th>2</th>\n      <td>1007</td>\n      <td>Umme Hani</td>\n      <td>2021-02-01 11:26:07.461598</td>\n      <td>0.745613</td>\n      <td>neutral</td>\n      <td>2021-02-01</td>\n    </tr>\n    <tr>\n      <th>3</th>\n      <td>1007</td>\n      <td>Umme Hani</td>\n      <td>2021-02-01 11:26:07.575653</td>\n      <td>0.749254</td>\n      <td>neutral</td>\n      <td>2021-02-01</td>\n    </tr>\n    <tr>\n      <th>4</th>\n      <td>1007</td>\n      <td>Umme Hani</td>\n      <td>2021-02-01 11:26:08.249940</td>\n      <td>0.747589</td>\n      <td>neutral</td>\n      <td>2021-02-01</td>\n    </tr>\n  </tbody>\n</table>\n</div>"
     },
     "metadata": {},
     "execution_count": 89
    }
   ],
   "source": [
    "df.head()"
   ]
  },
  {
   "cell_type": "code",
   "execution_count": 90,
   "metadata": {},
   "outputs": [
    {
     "output_type": "execute_result",
     "data": {
      "text/plain": [
       "0      1007\n",
       "1      1007\n",
       "2      1007\n",
       "3      1007\n",
       "4      1007\n",
       "       ... \n",
       "306    1018\n",
       "307    1018\n",
       "308    1018\n",
       "309    1018\n",
       "310    1018\n",
       "Name: id, Length: 311, dtype: int64"
      ]
     },
     "metadata": {},
     "execution_count": 90
    }
   ],
   "source": [
    "df.id"
   ]
  },
  {
   "cell_type": "code",
   "execution_count": 91,
   "metadata": {},
   "outputs": [],
   "source": [
    "gdf = df.groupby('id')"
   ]
  },
  {
   "cell_type": "code",
   "execution_count": 92,
   "metadata": {},
   "outputs": [],
   "source": [
    "report = gdf.first()"
   ]
  },
  {
   "cell_type": "code",
   "execution_count": 93,
   "metadata": {},
   "outputs": [
    {
     "output_type": "execute_result",
     "data": {
      "text/plain": [
       "                           name                   datetime  distance  emotion  \\\n",
       "id                                                                              \n",
       "102               Mahfuzul Alam 2021-02-01 13:25:29.031455  0.716434    happy   \n",
       "105                 Arif Raihan 2021-02-01 13:25:44.353044  0.743186      sad   \n",
       "1002                Tania Akter 2021-02-01 12:14:40.282302  0.717204  neutral   \n",
       "1003      Mohammad Golam Kibria 2021-02-01 12:42:26.617638  0.665231      sad   \n",
       "1004                 Ruhul Azam 2021-02-01 11:26:53.760960  0.728704    happy   \n",
       "1005               Anamul Habib 2021-02-01 13:20:46.833227  0.718910  neutral   \n",
       "1007                  Umme Hani 2021-02-01 11:26:06.528505  0.739909  neutral   \n",
       "1011           Md. Hamiduzzaman 2021-02-01 12:33:24.310087  0.564552     fear   \n",
       "1014            Ahnaf Serniabat 2021-02-01 11:31:28.082883  0.697436  neutral   \n",
       "1015               Zarraf Ahmed 2021-02-01 12:10:53.718945  0.681555  neutral   \n",
       "1017                Monir Ahmed 2021-02-01 11:51:35.874051  0.611523  neutral   \n",
       "1018               Sabbir Ahmed 2021-02-01 12:10:30.613689  0.677231      sad   \n",
       "1019              Imran hossain 2021-02-01 11:40:46.635357  0.704159  neutral   \n",
       "20201  Shakhaout Hossain Shakib 2021-02-01 12:01:07.256097  0.651118  neutral   \n",
       "\n",
       "             date  \n",
       "id                 \n",
       "102    2021-02-01  \n",
       "105    2021-02-01  \n",
       "1002   2021-02-01  \n",
       "1003   2021-02-01  \n",
       "1004   2021-02-01  \n",
       "1005   2021-02-01  \n",
       "1007   2021-02-01  \n",
       "1011   2021-02-01  \n",
       "1014   2021-02-01  \n",
       "1015   2021-02-01  \n",
       "1017   2021-02-01  \n",
       "1018   2021-02-01  \n",
       "1019   2021-02-01  \n",
       "20201  2021-02-01  "
      ],
      "text/html": "<div>\n<style scoped>\n    .dataframe tbody tr th:only-of-type {\n        vertical-align: middle;\n    }\n\n    .dataframe tbody tr th {\n        vertical-align: top;\n    }\n\n    .dataframe thead th {\n        text-align: right;\n    }\n</style>\n<table border=\"1\" class=\"dataframe\">\n  <thead>\n    <tr style=\"text-align: right;\">\n      <th></th>\n      <th>name</th>\n      <th>datetime</th>\n      <th>distance</th>\n      <th>emotion</th>\n      <th>date</th>\n    </tr>\n    <tr>\n      <th>id</th>\n      <th></th>\n      <th></th>\n      <th></th>\n      <th></th>\n      <th></th>\n    </tr>\n  </thead>\n  <tbody>\n    <tr>\n      <th>102</th>\n      <td>Mahfuzul Alam</td>\n      <td>2021-02-01 13:25:29.031455</td>\n      <td>0.716434</td>\n      <td>happy</td>\n      <td>2021-02-01</td>\n    </tr>\n    <tr>\n      <th>105</th>\n      <td>Arif Raihan</td>\n      <td>2021-02-01 13:25:44.353044</td>\n      <td>0.743186</td>\n      <td>sad</td>\n      <td>2021-02-01</td>\n    </tr>\n    <tr>\n      <th>1002</th>\n      <td>Tania Akter</td>\n      <td>2021-02-01 12:14:40.282302</td>\n      <td>0.717204</td>\n      <td>neutral</td>\n      <td>2021-02-01</td>\n    </tr>\n    <tr>\n      <th>1003</th>\n      <td>Mohammad Golam Kibria</td>\n      <td>2021-02-01 12:42:26.617638</td>\n      <td>0.665231</td>\n      <td>sad</td>\n      <td>2021-02-01</td>\n    </tr>\n    <tr>\n      <th>1004</th>\n      <td>Ruhul Azam</td>\n      <td>2021-02-01 11:26:53.760960</td>\n      <td>0.728704</td>\n      <td>happy</td>\n      <td>2021-02-01</td>\n    </tr>\n    <tr>\n      <th>1005</th>\n      <td>Anamul Habib</td>\n      <td>2021-02-01 13:20:46.833227</td>\n      <td>0.718910</td>\n      <td>neutral</td>\n      <td>2021-02-01</td>\n    </tr>\n    <tr>\n      <th>1007</th>\n      <td>Umme Hani</td>\n      <td>2021-02-01 11:26:06.528505</td>\n      <td>0.739909</td>\n      <td>neutral</td>\n      <td>2021-02-01</td>\n    </tr>\n    <tr>\n      <th>1011</th>\n      <td>Md. Hamiduzzaman</td>\n      <td>2021-02-01 12:33:24.310087</td>\n      <td>0.564552</td>\n      <td>fear</td>\n      <td>2021-02-01</td>\n    </tr>\n    <tr>\n      <th>1014</th>\n      <td>Ahnaf Serniabat</td>\n      <td>2021-02-01 11:31:28.082883</td>\n      <td>0.697436</td>\n      <td>neutral</td>\n      <td>2021-02-01</td>\n    </tr>\n    <tr>\n      <th>1015</th>\n      <td>Zarraf Ahmed</td>\n      <td>2021-02-01 12:10:53.718945</td>\n      <td>0.681555</td>\n      <td>neutral</td>\n      <td>2021-02-01</td>\n    </tr>\n    <tr>\n      <th>1017</th>\n      <td>Monir Ahmed</td>\n      <td>2021-02-01 11:51:35.874051</td>\n      <td>0.611523</td>\n      <td>neutral</td>\n      <td>2021-02-01</td>\n    </tr>\n    <tr>\n      <th>1018</th>\n      <td>Sabbir Ahmed</td>\n      <td>2021-02-01 12:10:30.613689</td>\n      <td>0.677231</td>\n      <td>sad</td>\n      <td>2021-02-01</td>\n    </tr>\n    <tr>\n      <th>1019</th>\n      <td>Imran hossain</td>\n      <td>2021-02-01 11:40:46.635357</td>\n      <td>0.704159</td>\n      <td>neutral</td>\n      <td>2021-02-01</td>\n    </tr>\n    <tr>\n      <th>20201</th>\n      <td>Shakhaout Hossain Shakib</td>\n      <td>2021-02-01 12:01:07.256097</td>\n      <td>0.651118</td>\n      <td>neutral</td>\n      <td>2021-02-01</td>\n    </tr>\n  </tbody>\n</table>\n</div>"
     },
     "metadata": {},
     "execution_count": 93
    }
   ],
   "source": [
    "report"
   ]
  },
  {
   "cell_type": "code",
   "execution_count": 94,
   "metadata": {},
   "outputs": [],
   "source": [
    "report.rename(columns={'datetime': 'first_punch'}, inplace=True)"
   ]
  },
  {
   "cell_type": "code",
   "execution_count": 95,
   "metadata": {},
   "outputs": [
    {
     "output_type": "execute_result",
     "data": {
      "text/plain": [
       "                           name                first_punch  distance  emotion  \\\n",
       "id                                                                              \n",
       "102               Mahfuzul Alam 2021-02-01 13:25:29.031455  0.716434    happy   \n",
       "105                 Arif Raihan 2021-02-01 13:25:44.353044  0.743186      sad   \n",
       "1002                Tania Akter 2021-02-01 12:14:40.282302  0.717204  neutral   \n",
       "1003      Mohammad Golam Kibria 2021-02-01 12:42:26.617638  0.665231      sad   \n",
       "1004                 Ruhul Azam 2021-02-01 11:26:53.760960  0.728704    happy   \n",
       "1005               Anamul Habib 2021-02-01 13:20:46.833227  0.718910  neutral   \n",
       "1007                  Umme Hani 2021-02-01 11:26:06.528505  0.739909  neutral   \n",
       "1011           Md. Hamiduzzaman 2021-02-01 12:33:24.310087  0.564552     fear   \n",
       "1014            Ahnaf Serniabat 2021-02-01 11:31:28.082883  0.697436  neutral   \n",
       "1015               Zarraf Ahmed 2021-02-01 12:10:53.718945  0.681555  neutral   \n",
       "1017                Monir Ahmed 2021-02-01 11:51:35.874051  0.611523  neutral   \n",
       "1018               Sabbir Ahmed 2021-02-01 12:10:30.613689  0.677231      sad   \n",
       "1019              Imran hossain 2021-02-01 11:40:46.635357  0.704159  neutral   \n",
       "20201  Shakhaout Hossain Shakib 2021-02-01 12:01:07.256097  0.651118  neutral   \n",
       "\n",
       "             date  \n",
       "id                 \n",
       "102    2021-02-01  \n",
       "105    2021-02-01  \n",
       "1002   2021-02-01  \n",
       "1003   2021-02-01  \n",
       "1004   2021-02-01  \n",
       "1005   2021-02-01  \n",
       "1007   2021-02-01  \n",
       "1011   2021-02-01  \n",
       "1014   2021-02-01  \n",
       "1015   2021-02-01  \n",
       "1017   2021-02-01  \n",
       "1018   2021-02-01  \n",
       "1019   2021-02-01  \n",
       "20201  2021-02-01  "
      ],
      "text/html": "<div>\n<style scoped>\n    .dataframe tbody tr th:only-of-type {\n        vertical-align: middle;\n    }\n\n    .dataframe tbody tr th {\n        vertical-align: top;\n    }\n\n    .dataframe thead th {\n        text-align: right;\n    }\n</style>\n<table border=\"1\" class=\"dataframe\">\n  <thead>\n    <tr style=\"text-align: right;\">\n      <th></th>\n      <th>name</th>\n      <th>first_punch</th>\n      <th>distance</th>\n      <th>emotion</th>\n      <th>date</th>\n    </tr>\n    <tr>\n      <th>id</th>\n      <th></th>\n      <th></th>\n      <th></th>\n      <th></th>\n      <th></th>\n    </tr>\n  </thead>\n  <tbody>\n    <tr>\n      <th>102</th>\n      <td>Mahfuzul Alam</td>\n      <td>2021-02-01 13:25:29.031455</td>\n      <td>0.716434</td>\n      <td>happy</td>\n      <td>2021-02-01</td>\n    </tr>\n    <tr>\n      <th>105</th>\n      <td>Arif Raihan</td>\n      <td>2021-02-01 13:25:44.353044</td>\n      <td>0.743186</td>\n      <td>sad</td>\n      <td>2021-02-01</td>\n    </tr>\n    <tr>\n      <th>1002</th>\n      <td>Tania Akter</td>\n      <td>2021-02-01 12:14:40.282302</td>\n      <td>0.717204</td>\n      <td>neutral</td>\n      <td>2021-02-01</td>\n    </tr>\n    <tr>\n      <th>1003</th>\n      <td>Mohammad Golam Kibria</td>\n      <td>2021-02-01 12:42:26.617638</td>\n      <td>0.665231</td>\n      <td>sad</td>\n      <td>2021-02-01</td>\n    </tr>\n    <tr>\n      <th>1004</th>\n      <td>Ruhul Azam</td>\n      <td>2021-02-01 11:26:53.760960</td>\n      <td>0.728704</td>\n      <td>happy</td>\n      <td>2021-02-01</td>\n    </tr>\n    <tr>\n      <th>1005</th>\n      <td>Anamul Habib</td>\n      <td>2021-02-01 13:20:46.833227</td>\n      <td>0.718910</td>\n      <td>neutral</td>\n      <td>2021-02-01</td>\n    </tr>\n    <tr>\n      <th>1007</th>\n      <td>Umme Hani</td>\n      <td>2021-02-01 11:26:06.528505</td>\n      <td>0.739909</td>\n      <td>neutral</td>\n      <td>2021-02-01</td>\n    </tr>\n    <tr>\n      <th>1011</th>\n      <td>Md. Hamiduzzaman</td>\n      <td>2021-02-01 12:33:24.310087</td>\n      <td>0.564552</td>\n      <td>fear</td>\n      <td>2021-02-01</td>\n    </tr>\n    <tr>\n      <th>1014</th>\n      <td>Ahnaf Serniabat</td>\n      <td>2021-02-01 11:31:28.082883</td>\n      <td>0.697436</td>\n      <td>neutral</td>\n      <td>2021-02-01</td>\n    </tr>\n    <tr>\n      <th>1015</th>\n      <td>Zarraf Ahmed</td>\n      <td>2021-02-01 12:10:53.718945</td>\n      <td>0.681555</td>\n      <td>neutral</td>\n      <td>2021-02-01</td>\n    </tr>\n    <tr>\n      <th>1017</th>\n      <td>Monir Ahmed</td>\n      <td>2021-02-01 11:51:35.874051</td>\n      <td>0.611523</td>\n      <td>neutral</td>\n      <td>2021-02-01</td>\n    </tr>\n    <tr>\n      <th>1018</th>\n      <td>Sabbir Ahmed</td>\n      <td>2021-02-01 12:10:30.613689</td>\n      <td>0.677231</td>\n      <td>sad</td>\n      <td>2021-02-01</td>\n    </tr>\n    <tr>\n      <th>1019</th>\n      <td>Imran hossain</td>\n      <td>2021-02-01 11:40:46.635357</td>\n      <td>0.704159</td>\n      <td>neutral</td>\n      <td>2021-02-01</td>\n    </tr>\n    <tr>\n      <th>20201</th>\n      <td>Shakhaout Hossain Shakib</td>\n      <td>2021-02-01 12:01:07.256097</td>\n      <td>0.651118</td>\n      <td>neutral</td>\n      <td>2021-02-01</td>\n    </tr>\n  </tbody>\n</table>\n</div>"
     },
     "metadata": {},
     "execution_count": 95
    }
   ],
   "source": [
    "report"
   ]
  },
  {
   "cell_type": "code",
   "execution_count": 96,
   "metadata": {},
   "outputs": [],
   "source": [
    "report['last_punch'] =gdf.last()['datetime']"
   ]
  },
  {
   "cell_type": "code",
   "execution_count": 97,
   "metadata": {},
   "outputs": [
    {
     "output_type": "execute_result",
     "data": {
      "text/plain": [
       "                           name                first_punch  distance  emotion  \\\n",
       "id                                                                              \n",
       "102               Mahfuzul Alam 2021-02-01 13:25:29.031455  0.716434    happy   \n",
       "105                 Arif Raihan 2021-02-01 13:25:44.353044  0.743186      sad   \n",
       "1002                Tania Akter 2021-02-01 12:14:40.282302  0.717204  neutral   \n",
       "1003      Mohammad Golam Kibria 2021-02-01 12:42:26.617638  0.665231      sad   \n",
       "1004                 Ruhul Azam 2021-02-01 11:26:53.760960  0.728704    happy   \n",
       "1005               Anamul Habib 2021-02-01 13:20:46.833227  0.718910  neutral   \n",
       "1007                  Umme Hani 2021-02-01 11:26:06.528505  0.739909  neutral   \n",
       "1011           Md. Hamiduzzaman 2021-02-01 12:33:24.310087  0.564552     fear   \n",
       "1014            Ahnaf Serniabat 2021-02-01 11:31:28.082883  0.697436  neutral   \n",
       "1015               Zarraf Ahmed 2021-02-01 12:10:53.718945  0.681555  neutral   \n",
       "1017                Monir Ahmed 2021-02-01 11:51:35.874051  0.611523  neutral   \n",
       "1018               Sabbir Ahmed 2021-02-01 12:10:30.613689  0.677231      sad   \n",
       "1019              Imran hossain 2021-02-01 11:40:46.635357  0.704159  neutral   \n",
       "20201  Shakhaout Hossain Shakib 2021-02-01 12:01:07.256097  0.651118  neutral   \n",
       "\n",
       "             date                 last_punch  \n",
       "id                                            \n",
       "102    2021-02-01 2021-02-01 13:25:57.006976  \n",
       "105    2021-02-01 2021-02-01 13:25:44.353044  \n",
       "1002   2021-02-01 2021-02-01 13:14:01.480548  \n",
       "1003   2021-02-01 2021-02-01 13:25:44.470537  \n",
       "1004   2021-02-01 2021-02-01 11:26:55.009012  \n",
       "1005   2021-02-01 2021-02-01 13:37:34.488653  \n",
       "1007   2021-02-01 2021-02-01 11:26:08.249940  \n",
       "1011   2021-02-01 2021-02-01 12:33:27.720095  \n",
       "1014   2021-02-01 2021-02-01 13:48:47.783349  \n",
       "1015   2021-02-01 2021-02-01 13:25:45.289423  \n",
       "1017   2021-02-01 2021-02-01 11:51:37.504185  \n",
       "1018   2021-02-01 2021-02-01 14:11:29.399443  \n",
       "1019   2021-02-01 2021-02-01 11:40:48.875458  \n",
       "20201  2021-02-01 2021-02-01 13:18:15.912421  "
      ],
      "text/html": "<div>\n<style scoped>\n    .dataframe tbody tr th:only-of-type {\n        vertical-align: middle;\n    }\n\n    .dataframe tbody tr th {\n        vertical-align: top;\n    }\n\n    .dataframe thead th {\n        text-align: right;\n    }\n</style>\n<table border=\"1\" class=\"dataframe\">\n  <thead>\n    <tr style=\"text-align: right;\">\n      <th></th>\n      <th>name</th>\n      <th>first_punch</th>\n      <th>distance</th>\n      <th>emotion</th>\n      <th>date</th>\n      <th>last_punch</th>\n    </tr>\n    <tr>\n      <th>id</th>\n      <th></th>\n      <th></th>\n      <th></th>\n      <th></th>\n      <th></th>\n      <th></th>\n    </tr>\n  </thead>\n  <tbody>\n    <tr>\n      <th>102</th>\n      <td>Mahfuzul Alam</td>\n      <td>2021-02-01 13:25:29.031455</td>\n      <td>0.716434</td>\n      <td>happy</td>\n      <td>2021-02-01</td>\n      <td>2021-02-01 13:25:57.006976</td>\n    </tr>\n    <tr>\n      <th>105</th>\n      <td>Arif Raihan</td>\n      <td>2021-02-01 13:25:44.353044</td>\n      <td>0.743186</td>\n      <td>sad</td>\n      <td>2021-02-01</td>\n      <td>2021-02-01 13:25:44.353044</td>\n    </tr>\n    <tr>\n      <th>1002</th>\n      <td>Tania Akter</td>\n      <td>2021-02-01 12:14:40.282302</td>\n      <td>0.717204</td>\n      <td>neutral</td>\n      <td>2021-02-01</td>\n      <td>2021-02-01 13:14:01.480548</td>\n    </tr>\n    <tr>\n      <th>1003</th>\n      <td>Mohammad Golam Kibria</td>\n      <td>2021-02-01 12:42:26.617638</td>\n      <td>0.665231</td>\n      <td>sad</td>\n      <td>2021-02-01</td>\n      <td>2021-02-01 13:25:44.470537</td>\n    </tr>\n    <tr>\n      <th>1004</th>\n      <td>Ruhul Azam</td>\n      <td>2021-02-01 11:26:53.760960</td>\n      <td>0.728704</td>\n      <td>happy</td>\n      <td>2021-02-01</td>\n      <td>2021-02-01 11:26:55.009012</td>\n    </tr>\n    <tr>\n      <th>1005</th>\n      <td>Anamul Habib</td>\n      <td>2021-02-01 13:20:46.833227</td>\n      <td>0.718910</td>\n      <td>neutral</td>\n      <td>2021-02-01</td>\n      <td>2021-02-01 13:37:34.488653</td>\n    </tr>\n    <tr>\n      <th>1007</th>\n      <td>Umme Hani</td>\n      <td>2021-02-01 11:26:06.528505</td>\n      <td>0.739909</td>\n      <td>neutral</td>\n      <td>2021-02-01</td>\n      <td>2021-02-01 11:26:08.249940</td>\n    </tr>\n    <tr>\n      <th>1011</th>\n      <td>Md. Hamiduzzaman</td>\n      <td>2021-02-01 12:33:24.310087</td>\n      <td>0.564552</td>\n      <td>fear</td>\n      <td>2021-02-01</td>\n      <td>2021-02-01 12:33:27.720095</td>\n    </tr>\n    <tr>\n      <th>1014</th>\n      <td>Ahnaf Serniabat</td>\n      <td>2021-02-01 11:31:28.082883</td>\n      <td>0.697436</td>\n      <td>neutral</td>\n      <td>2021-02-01</td>\n      <td>2021-02-01 13:48:47.783349</td>\n    </tr>\n    <tr>\n      <th>1015</th>\n      <td>Zarraf Ahmed</td>\n      <td>2021-02-01 12:10:53.718945</td>\n      <td>0.681555</td>\n      <td>neutral</td>\n      <td>2021-02-01</td>\n      <td>2021-02-01 13:25:45.289423</td>\n    </tr>\n    <tr>\n      <th>1017</th>\n      <td>Monir Ahmed</td>\n      <td>2021-02-01 11:51:35.874051</td>\n      <td>0.611523</td>\n      <td>neutral</td>\n      <td>2021-02-01</td>\n      <td>2021-02-01 11:51:37.504185</td>\n    </tr>\n    <tr>\n      <th>1018</th>\n      <td>Sabbir Ahmed</td>\n      <td>2021-02-01 12:10:30.613689</td>\n      <td>0.677231</td>\n      <td>sad</td>\n      <td>2021-02-01</td>\n      <td>2021-02-01 14:11:29.399443</td>\n    </tr>\n    <tr>\n      <th>1019</th>\n      <td>Imran hossain</td>\n      <td>2021-02-01 11:40:46.635357</td>\n      <td>0.704159</td>\n      <td>neutral</td>\n      <td>2021-02-01</td>\n      <td>2021-02-01 11:40:48.875458</td>\n    </tr>\n    <tr>\n      <th>20201</th>\n      <td>Shakhaout Hossain Shakib</td>\n      <td>2021-02-01 12:01:07.256097</td>\n      <td>0.651118</td>\n      <td>neutral</td>\n      <td>2021-02-01</td>\n      <td>2021-02-01 13:18:15.912421</td>\n    </tr>\n  </tbody>\n</table>\n</div>"
     },
     "metadata": {},
     "execution_count": 97
    }
   ],
   "source": [
    "report"
   ]
  },
  {
   "cell_type": "code",
   "execution_count": 98,
   "metadata": {},
   "outputs": [],
   "source": [
    "report['timedelta'] = report['last_punch'] - report['first_punch']"
   ]
  },
  {
   "cell_type": "code",
   "execution_count": 99,
   "metadata": {},
   "outputs": [
    {
     "output_type": "execute_result",
     "data": {
      "text/plain": [
       "                           name                first_punch  distance  emotion  \\\n",
       "id                                                                              \n",
       "102               Mahfuzul Alam 2021-02-01 13:25:29.031455  0.716434    happy   \n",
       "105                 Arif Raihan 2021-02-01 13:25:44.353044  0.743186      sad   \n",
       "1002                Tania Akter 2021-02-01 12:14:40.282302  0.717204  neutral   \n",
       "1003      Mohammad Golam Kibria 2021-02-01 12:42:26.617638  0.665231      sad   \n",
       "1004                 Ruhul Azam 2021-02-01 11:26:53.760960  0.728704    happy   \n",
       "1005               Anamul Habib 2021-02-01 13:20:46.833227  0.718910  neutral   \n",
       "1007                  Umme Hani 2021-02-01 11:26:06.528505  0.739909  neutral   \n",
       "1011           Md. Hamiduzzaman 2021-02-01 12:33:24.310087  0.564552     fear   \n",
       "1014            Ahnaf Serniabat 2021-02-01 11:31:28.082883  0.697436  neutral   \n",
       "1015               Zarraf Ahmed 2021-02-01 12:10:53.718945  0.681555  neutral   \n",
       "1017                Monir Ahmed 2021-02-01 11:51:35.874051  0.611523  neutral   \n",
       "1018               Sabbir Ahmed 2021-02-01 12:10:30.613689  0.677231      sad   \n",
       "1019              Imran hossain 2021-02-01 11:40:46.635357  0.704159  neutral   \n",
       "20201  Shakhaout Hossain Shakib 2021-02-01 12:01:07.256097  0.651118  neutral   \n",
       "\n",
       "             date                 last_punch              timedelta  \n",
       "id                                                                   \n",
       "102    2021-02-01 2021-02-01 13:25:57.006976 0 days 00:00:27.975521  \n",
       "105    2021-02-01 2021-02-01 13:25:44.353044        0 days 00:00:00  \n",
       "1002   2021-02-01 2021-02-01 13:14:01.480548 0 days 00:59:21.198246  \n",
       "1003   2021-02-01 2021-02-01 13:25:44.470537 0 days 00:43:17.852899  \n",
       "1004   2021-02-01 2021-02-01 11:26:55.009012 0 days 00:00:01.248052  \n",
       "1005   2021-02-01 2021-02-01 13:37:34.488653 0 days 00:16:47.655426  \n",
       "1007   2021-02-01 2021-02-01 11:26:08.249940 0 days 00:00:01.721435  \n",
       "1011   2021-02-01 2021-02-01 12:33:27.720095 0 days 00:00:03.410008  \n",
       "1014   2021-02-01 2021-02-01 13:48:47.783349 0 days 02:17:19.700466  \n",
       "1015   2021-02-01 2021-02-01 13:25:45.289423 0 days 01:14:51.570478  \n",
       "1017   2021-02-01 2021-02-01 11:51:37.504185 0 days 00:00:01.630134  \n",
       "1018   2021-02-01 2021-02-01 14:11:29.399443 0 days 02:00:58.785754  \n",
       "1019   2021-02-01 2021-02-01 11:40:48.875458 0 days 00:00:02.240101  \n",
       "20201  2021-02-01 2021-02-01 13:18:15.912421 0 days 01:17:08.656324  "
      ],
      "text/html": "<div>\n<style scoped>\n    .dataframe tbody tr th:only-of-type {\n        vertical-align: middle;\n    }\n\n    .dataframe tbody tr th {\n        vertical-align: top;\n    }\n\n    .dataframe thead th {\n        text-align: right;\n    }\n</style>\n<table border=\"1\" class=\"dataframe\">\n  <thead>\n    <tr style=\"text-align: right;\">\n      <th></th>\n      <th>name</th>\n      <th>first_punch</th>\n      <th>distance</th>\n      <th>emotion</th>\n      <th>date</th>\n      <th>last_punch</th>\n      <th>timedelta</th>\n    </tr>\n    <tr>\n      <th>id</th>\n      <th></th>\n      <th></th>\n      <th></th>\n      <th></th>\n      <th></th>\n      <th></th>\n      <th></th>\n    </tr>\n  </thead>\n  <tbody>\n    <tr>\n      <th>102</th>\n      <td>Mahfuzul Alam</td>\n      <td>2021-02-01 13:25:29.031455</td>\n      <td>0.716434</td>\n      <td>happy</td>\n      <td>2021-02-01</td>\n      <td>2021-02-01 13:25:57.006976</td>\n      <td>0 days 00:00:27.975521</td>\n    </tr>\n    <tr>\n      <th>105</th>\n      <td>Arif Raihan</td>\n      <td>2021-02-01 13:25:44.353044</td>\n      <td>0.743186</td>\n      <td>sad</td>\n      <td>2021-02-01</td>\n      <td>2021-02-01 13:25:44.353044</td>\n      <td>0 days 00:00:00</td>\n    </tr>\n    <tr>\n      <th>1002</th>\n      <td>Tania Akter</td>\n      <td>2021-02-01 12:14:40.282302</td>\n      <td>0.717204</td>\n      <td>neutral</td>\n      <td>2021-02-01</td>\n      <td>2021-02-01 13:14:01.480548</td>\n      <td>0 days 00:59:21.198246</td>\n    </tr>\n    <tr>\n      <th>1003</th>\n      <td>Mohammad Golam Kibria</td>\n      <td>2021-02-01 12:42:26.617638</td>\n      <td>0.665231</td>\n      <td>sad</td>\n      <td>2021-02-01</td>\n      <td>2021-02-01 13:25:44.470537</td>\n      <td>0 days 00:43:17.852899</td>\n    </tr>\n    <tr>\n      <th>1004</th>\n      <td>Ruhul Azam</td>\n      <td>2021-02-01 11:26:53.760960</td>\n      <td>0.728704</td>\n      <td>happy</td>\n      <td>2021-02-01</td>\n      <td>2021-02-01 11:26:55.009012</td>\n      <td>0 days 00:00:01.248052</td>\n    </tr>\n    <tr>\n      <th>1005</th>\n      <td>Anamul Habib</td>\n      <td>2021-02-01 13:20:46.833227</td>\n      <td>0.718910</td>\n      <td>neutral</td>\n      <td>2021-02-01</td>\n      <td>2021-02-01 13:37:34.488653</td>\n      <td>0 days 00:16:47.655426</td>\n    </tr>\n    <tr>\n      <th>1007</th>\n      <td>Umme Hani</td>\n      <td>2021-02-01 11:26:06.528505</td>\n      <td>0.739909</td>\n      <td>neutral</td>\n      <td>2021-02-01</td>\n      <td>2021-02-01 11:26:08.249940</td>\n      <td>0 days 00:00:01.721435</td>\n    </tr>\n    <tr>\n      <th>1011</th>\n      <td>Md. Hamiduzzaman</td>\n      <td>2021-02-01 12:33:24.310087</td>\n      <td>0.564552</td>\n      <td>fear</td>\n      <td>2021-02-01</td>\n      <td>2021-02-01 12:33:27.720095</td>\n      <td>0 days 00:00:03.410008</td>\n    </tr>\n    <tr>\n      <th>1014</th>\n      <td>Ahnaf Serniabat</td>\n      <td>2021-02-01 11:31:28.082883</td>\n      <td>0.697436</td>\n      <td>neutral</td>\n      <td>2021-02-01</td>\n      <td>2021-02-01 13:48:47.783349</td>\n      <td>0 days 02:17:19.700466</td>\n    </tr>\n    <tr>\n      <th>1015</th>\n      <td>Zarraf Ahmed</td>\n      <td>2021-02-01 12:10:53.718945</td>\n      <td>0.681555</td>\n      <td>neutral</td>\n      <td>2021-02-01</td>\n      <td>2021-02-01 13:25:45.289423</td>\n      <td>0 days 01:14:51.570478</td>\n    </tr>\n    <tr>\n      <th>1017</th>\n      <td>Monir Ahmed</td>\n      <td>2021-02-01 11:51:35.874051</td>\n      <td>0.611523</td>\n      <td>neutral</td>\n      <td>2021-02-01</td>\n      <td>2021-02-01 11:51:37.504185</td>\n      <td>0 days 00:00:01.630134</td>\n    </tr>\n    <tr>\n      <th>1018</th>\n      <td>Sabbir Ahmed</td>\n      <td>2021-02-01 12:10:30.613689</td>\n      <td>0.677231</td>\n      <td>sad</td>\n      <td>2021-02-01</td>\n      <td>2021-02-01 14:11:29.399443</td>\n      <td>0 days 02:00:58.785754</td>\n    </tr>\n    <tr>\n      <th>1019</th>\n      <td>Imran hossain</td>\n      <td>2021-02-01 11:40:46.635357</td>\n      <td>0.704159</td>\n      <td>neutral</td>\n      <td>2021-02-01</td>\n      <td>2021-02-01 11:40:48.875458</td>\n      <td>0 days 00:00:02.240101</td>\n    </tr>\n    <tr>\n      <th>20201</th>\n      <td>Shakhaout Hossain Shakib</td>\n      <td>2021-02-01 12:01:07.256097</td>\n      <td>0.651118</td>\n      <td>neutral</td>\n      <td>2021-02-01</td>\n      <td>2021-02-01 13:18:15.912421</td>\n      <td>0 days 01:17:08.656324</td>\n    </tr>\n  </tbody>\n</table>\n</div>"
     },
     "metadata": {},
     "execution_count": 99
    }
   ],
   "source": [
    "report"
   ]
  },
  {
   "cell_type": "code",
   "execution_count": 100,
   "metadata": {},
   "outputs": [],
   "source": [
    "report['spent'] = report['timedelta'].apply(lambda x: (datetime.fromisoformat(\"1990-01-01\") + x).strftime(\"%H:%M:%S\"))"
   ]
  },
  {
   "cell_type": "code",
   "execution_count": 101,
   "metadata": {},
   "outputs": [],
   "source": [
    "report['percentile'] = report['timedelta'].apply(lambda x: int(((x.total_seconds()) / (8*3600)) * 100))"
   ]
  },
  {
   "cell_type": "code",
   "execution_count": 102,
   "metadata": {},
   "outputs": [
    {
     "output_type": "execute_result",
     "data": {
      "text/plain": [
       "                           name                first_punch  distance  emotion  \\\n",
       "id                                                                              \n",
       "102               Mahfuzul Alam 2021-02-01 13:25:29.031455  0.716434    happy   \n",
       "105                 Arif Raihan 2021-02-01 13:25:44.353044  0.743186      sad   \n",
       "1002                Tania Akter 2021-02-01 12:14:40.282302  0.717204  neutral   \n",
       "1003      Mohammad Golam Kibria 2021-02-01 12:42:26.617638  0.665231      sad   \n",
       "1004                 Ruhul Azam 2021-02-01 11:26:53.760960  0.728704    happy   \n",
       "1005               Anamul Habib 2021-02-01 13:20:46.833227  0.718910  neutral   \n",
       "1007                  Umme Hani 2021-02-01 11:26:06.528505  0.739909  neutral   \n",
       "1011           Md. Hamiduzzaman 2021-02-01 12:33:24.310087  0.564552     fear   \n",
       "1014            Ahnaf Serniabat 2021-02-01 11:31:28.082883  0.697436  neutral   \n",
       "1015               Zarraf Ahmed 2021-02-01 12:10:53.718945  0.681555  neutral   \n",
       "1017                Monir Ahmed 2021-02-01 11:51:35.874051  0.611523  neutral   \n",
       "1018               Sabbir Ahmed 2021-02-01 12:10:30.613689  0.677231      sad   \n",
       "1019              Imran hossain 2021-02-01 11:40:46.635357  0.704159  neutral   \n",
       "20201  Shakhaout Hossain Shakib 2021-02-01 12:01:07.256097  0.651118  neutral   \n",
       "\n",
       "             date                 last_punch              timedelta     spent  \\\n",
       "id                                                                              \n",
       "102    2021-02-01 2021-02-01 13:25:57.006976 0 days 00:00:27.975521  00:00:27   \n",
       "105    2021-02-01 2021-02-01 13:25:44.353044        0 days 00:00:00  00:00:00   \n",
       "1002   2021-02-01 2021-02-01 13:14:01.480548 0 days 00:59:21.198246  00:59:21   \n",
       "1003   2021-02-01 2021-02-01 13:25:44.470537 0 days 00:43:17.852899  00:43:17   \n",
       "1004   2021-02-01 2021-02-01 11:26:55.009012 0 days 00:00:01.248052  00:00:01   \n",
       "1005   2021-02-01 2021-02-01 13:37:34.488653 0 days 00:16:47.655426  00:16:47   \n",
       "1007   2021-02-01 2021-02-01 11:26:08.249940 0 days 00:00:01.721435  00:00:01   \n",
       "1011   2021-02-01 2021-02-01 12:33:27.720095 0 days 00:00:03.410008  00:00:03   \n",
       "1014   2021-02-01 2021-02-01 13:48:47.783349 0 days 02:17:19.700466  02:17:19   \n",
       "1015   2021-02-01 2021-02-01 13:25:45.289423 0 days 01:14:51.570478  01:14:51   \n",
       "1017   2021-02-01 2021-02-01 11:51:37.504185 0 days 00:00:01.630134  00:00:01   \n",
       "1018   2021-02-01 2021-02-01 14:11:29.399443 0 days 02:00:58.785754  02:00:58   \n",
       "1019   2021-02-01 2021-02-01 11:40:48.875458 0 days 00:00:02.240101  00:00:02   \n",
       "20201  2021-02-01 2021-02-01 13:18:15.912421 0 days 01:17:08.656324  01:17:08   \n",
       "\n",
       "       percentile  \n",
       "id                 \n",
       "102             0  \n",
       "105             0  \n",
       "1002           12  \n",
       "1003            9  \n",
       "1004            0  \n",
       "1005            3  \n",
       "1007            0  \n",
       "1011            0  \n",
       "1014           28  \n",
       "1015           15  \n",
       "1017            0  \n",
       "1018           25  \n",
       "1019            0  \n",
       "20201          16  "
      ],
      "text/html": "<div>\n<style scoped>\n    .dataframe tbody tr th:only-of-type {\n        vertical-align: middle;\n    }\n\n    .dataframe tbody tr th {\n        vertical-align: top;\n    }\n\n    .dataframe thead th {\n        text-align: right;\n    }\n</style>\n<table border=\"1\" class=\"dataframe\">\n  <thead>\n    <tr style=\"text-align: right;\">\n      <th></th>\n      <th>name</th>\n      <th>first_punch</th>\n      <th>distance</th>\n      <th>emotion</th>\n      <th>date</th>\n      <th>last_punch</th>\n      <th>timedelta</th>\n      <th>spent</th>\n      <th>percentile</th>\n    </tr>\n    <tr>\n      <th>id</th>\n      <th></th>\n      <th></th>\n      <th></th>\n      <th></th>\n      <th></th>\n      <th></th>\n      <th></th>\n      <th></th>\n      <th></th>\n    </tr>\n  </thead>\n  <tbody>\n    <tr>\n      <th>102</th>\n      <td>Mahfuzul Alam</td>\n      <td>2021-02-01 13:25:29.031455</td>\n      <td>0.716434</td>\n      <td>happy</td>\n      <td>2021-02-01</td>\n      <td>2021-02-01 13:25:57.006976</td>\n      <td>0 days 00:00:27.975521</td>\n      <td>00:00:27</td>\n      <td>0</td>\n    </tr>\n    <tr>\n      <th>105</th>\n      <td>Arif Raihan</td>\n      <td>2021-02-01 13:25:44.353044</td>\n      <td>0.743186</td>\n      <td>sad</td>\n      <td>2021-02-01</td>\n      <td>2021-02-01 13:25:44.353044</td>\n      <td>0 days 00:00:00</td>\n      <td>00:00:00</td>\n      <td>0</td>\n    </tr>\n    <tr>\n      <th>1002</th>\n      <td>Tania Akter</td>\n      <td>2021-02-01 12:14:40.282302</td>\n      <td>0.717204</td>\n      <td>neutral</td>\n      <td>2021-02-01</td>\n      <td>2021-02-01 13:14:01.480548</td>\n      <td>0 days 00:59:21.198246</td>\n      <td>00:59:21</td>\n      <td>12</td>\n    </tr>\n    <tr>\n      <th>1003</th>\n      <td>Mohammad Golam Kibria</td>\n      <td>2021-02-01 12:42:26.617638</td>\n      <td>0.665231</td>\n      <td>sad</td>\n      <td>2021-02-01</td>\n      <td>2021-02-01 13:25:44.470537</td>\n      <td>0 days 00:43:17.852899</td>\n      <td>00:43:17</td>\n      <td>9</td>\n    </tr>\n    <tr>\n      <th>1004</th>\n      <td>Ruhul Azam</td>\n      <td>2021-02-01 11:26:53.760960</td>\n      <td>0.728704</td>\n      <td>happy</td>\n      <td>2021-02-01</td>\n      <td>2021-02-01 11:26:55.009012</td>\n      <td>0 days 00:00:01.248052</td>\n      <td>00:00:01</td>\n      <td>0</td>\n    </tr>\n    <tr>\n      <th>1005</th>\n      <td>Anamul Habib</td>\n      <td>2021-02-01 13:20:46.833227</td>\n      <td>0.718910</td>\n      <td>neutral</td>\n      <td>2021-02-01</td>\n      <td>2021-02-01 13:37:34.488653</td>\n      <td>0 days 00:16:47.655426</td>\n      <td>00:16:47</td>\n      <td>3</td>\n    </tr>\n    <tr>\n      <th>1007</th>\n      <td>Umme Hani</td>\n      <td>2021-02-01 11:26:06.528505</td>\n      <td>0.739909</td>\n      <td>neutral</td>\n      <td>2021-02-01</td>\n      <td>2021-02-01 11:26:08.249940</td>\n      <td>0 days 00:00:01.721435</td>\n      <td>00:00:01</td>\n      <td>0</td>\n    </tr>\n    <tr>\n      <th>1011</th>\n      <td>Md. Hamiduzzaman</td>\n      <td>2021-02-01 12:33:24.310087</td>\n      <td>0.564552</td>\n      <td>fear</td>\n      <td>2021-02-01</td>\n      <td>2021-02-01 12:33:27.720095</td>\n      <td>0 days 00:00:03.410008</td>\n      <td>00:00:03</td>\n      <td>0</td>\n    </tr>\n    <tr>\n      <th>1014</th>\n      <td>Ahnaf Serniabat</td>\n      <td>2021-02-01 11:31:28.082883</td>\n      <td>0.697436</td>\n      <td>neutral</td>\n      <td>2021-02-01</td>\n      <td>2021-02-01 13:48:47.783349</td>\n      <td>0 days 02:17:19.700466</td>\n      <td>02:17:19</td>\n      <td>28</td>\n    </tr>\n    <tr>\n      <th>1015</th>\n      <td>Zarraf Ahmed</td>\n      <td>2021-02-01 12:10:53.718945</td>\n      <td>0.681555</td>\n      <td>neutral</td>\n      <td>2021-02-01</td>\n      <td>2021-02-01 13:25:45.289423</td>\n      <td>0 days 01:14:51.570478</td>\n      <td>01:14:51</td>\n      <td>15</td>\n    </tr>\n    <tr>\n      <th>1017</th>\n      <td>Monir Ahmed</td>\n      <td>2021-02-01 11:51:35.874051</td>\n      <td>0.611523</td>\n      <td>neutral</td>\n      <td>2021-02-01</td>\n      <td>2021-02-01 11:51:37.504185</td>\n      <td>0 days 00:00:01.630134</td>\n      <td>00:00:01</td>\n      <td>0</td>\n    </tr>\n    <tr>\n      <th>1018</th>\n      <td>Sabbir Ahmed</td>\n      <td>2021-02-01 12:10:30.613689</td>\n      <td>0.677231</td>\n      <td>sad</td>\n      <td>2021-02-01</td>\n      <td>2021-02-01 14:11:29.399443</td>\n      <td>0 days 02:00:58.785754</td>\n      <td>02:00:58</td>\n      <td>25</td>\n    </tr>\n    <tr>\n      <th>1019</th>\n      <td>Imran hossain</td>\n      <td>2021-02-01 11:40:46.635357</td>\n      <td>0.704159</td>\n      <td>neutral</td>\n      <td>2021-02-01</td>\n      <td>2021-02-01 11:40:48.875458</td>\n      <td>0 days 00:00:02.240101</td>\n      <td>00:00:02</td>\n      <td>0</td>\n    </tr>\n    <tr>\n      <th>20201</th>\n      <td>Shakhaout Hossain Shakib</td>\n      <td>2021-02-01 12:01:07.256097</td>\n      <td>0.651118</td>\n      <td>neutral</td>\n      <td>2021-02-01</td>\n      <td>2021-02-01 13:18:15.912421</td>\n      <td>0 days 01:17:08.656324</td>\n      <td>01:17:08</td>\n      <td>16</td>\n    </tr>\n  </tbody>\n</table>\n</div>"
     },
     "metadata": {},
     "execution_count": 102
    }
   ],
   "source": [
    "report"
   ]
  },
  {
   "cell_type": "code",
   "execution_count": 103,
   "metadata": {},
   "outputs": [],
   "source": [
    "report = report.drop(['distance', 'timedelta'], axis=1)"
   ]
  },
  {
   "cell_type": "code",
   "execution_count": 104,
   "metadata": {},
   "outputs": [],
   "source": [
    "def get_remarks(time):\n",
    "    time = time.to_pydatetime().time()\n",
    "    remark = None\n",
    "    # predefined time constraints\n",
    "    in_time = datetime.strptime('11:30:59', '%H:%M:%S').time()\n",
    "    late_start = datetime.strptime('11:31:00', '%H:%M:%S').time()\n",
    "    late_end = datetime.strptime('13:00:59', '%H:%M:%S').time()\n",
    "    half_start = datetime.strptime('13:01:00', '%H:%M:%S').time()\n",
    "    half_end = datetime.strptime('15:30:59', '%H:%M:%S').time()\n",
    "    late_half_start = datetime.strptime('15:31:00', '%H:%M:%S').time()\n",
    "    late_half_end = datetime.strptime('16:30:59', '%H:%M:%S').time()\n",
    "    absent_time = datetime.strptime('16:31:00', '%H:%M:%S').time()\n",
    "\n",
    "    # in time\n",
    "    if time > absent_time:\n",
    "        remark = 'Absent'\n",
    "    if late_half_start <= time <= late_half_end:\n",
    "        remark = 'Late Half'\n",
    "    if half_start <= time <= half_end:\n",
    "        remark = 'Half Day'\n",
    "    if late_start <= time <= late_end:\n",
    "        remark = 'Late'\n",
    "    if time <= in_time:\n",
    "        remark = 'Normal'\n",
    "\n",
    "    return remark\n",
    "\n",
    "def calculate_deficiency(spent):\n",
    "    actual_hour = datetime.strptime('08:00:00', '%H:%M:%S')\n",
    "    spent = datetime.strptime(spent, '%H:%M:%S')\n",
    "    deficit = actual_hour - spent\n",
    "\n",
    "    deficit_td = (datetime.fromisoformat(\"1990-01-01\") + deficit).strftime(\"%H:%M:%S\")\\\n",
    "                 if deficit.days >= 0 else (datetime.fromisoformat(\"1990-01-01\") + timedelta(0)).strftime(\"%H:%M:%S\")\n",
    "    return deficit_td"
   ]
  },
  {
   "cell_type": "code",
   "execution_count": 105,
   "metadata": {},
   "outputs": [],
   "source": [
    "report['remarks'] = report['first_punch'].apply(lambda x: get_remarks(x))"
   ]
  },
  {
   "cell_type": "code",
   "execution_count": 106,
   "metadata": {},
   "outputs": [],
   "source": [
    "report['first_punch'] = report['first_punch'].apply(lambda x: x.strftime(\"%H:%M:%S\"))\n",
    "report['last_punch'] = report['last_punch'].apply(lambda x: x.strftime(\"%H:%M:%S\"))\n",
    "report['deficiency'] = report['spent'].apply(lambda x: calculate_deficiency(x))"
   ]
  },
  {
   "cell_type": "code",
   "execution_count": 107,
   "metadata": {},
   "outputs": [
    {
     "output_type": "execute_result",
     "data": {
      "text/plain": [
       "                           name first_punch  emotion        date last_punch  \\\n",
       "id                                                                            \n",
       "102               Mahfuzul Alam    13:25:29    happy  2021-02-01   13:25:57   \n",
       "105                 Arif Raihan    13:25:44      sad  2021-02-01   13:25:44   \n",
       "1002                Tania Akter    12:14:40  neutral  2021-02-01   13:14:01   \n",
       "1003      Mohammad Golam Kibria    12:42:26      sad  2021-02-01   13:25:44   \n",
       "1004                 Ruhul Azam    11:26:53    happy  2021-02-01   11:26:55   \n",
       "1005               Anamul Habib    13:20:46  neutral  2021-02-01   13:37:34   \n",
       "1007                  Umme Hani    11:26:06  neutral  2021-02-01   11:26:08   \n",
       "1011           Md. Hamiduzzaman    12:33:24     fear  2021-02-01   12:33:27   \n",
       "1014            Ahnaf Serniabat    11:31:28  neutral  2021-02-01   13:48:47   \n",
       "1015               Zarraf Ahmed    12:10:53  neutral  2021-02-01   13:25:45   \n",
       "1017                Monir Ahmed    11:51:35  neutral  2021-02-01   11:51:37   \n",
       "1018               Sabbir Ahmed    12:10:30      sad  2021-02-01   14:11:29   \n",
       "1019              Imran hossain    11:40:46  neutral  2021-02-01   11:40:48   \n",
       "20201  Shakhaout Hossain Shakib    12:01:07  neutral  2021-02-01   13:18:15   \n",
       "\n",
       "          spent  percentile   remarks deficiency  \n",
       "id                                                \n",
       "102    00:00:27           0  Half Day   07:59:33  \n",
       "105    00:00:00           0  Half Day   08:00:00  \n",
       "1002   00:59:21          12      Late   07:00:39  \n",
       "1003   00:43:17           9      Late   07:16:43  \n",
       "1004   00:00:01           0    Normal   07:59:59  \n",
       "1005   00:16:47           3  Half Day   07:43:13  \n",
       "1007   00:00:01           0    Normal   07:59:59  \n",
       "1011   00:00:03           0      Late   07:59:57  \n",
       "1014   02:17:19          28      Late   05:42:41  \n",
       "1015   01:14:51          15      Late   06:45:09  \n",
       "1017   00:00:01           0      Late   07:59:59  \n",
       "1018   02:00:58          25      Late   05:59:02  \n",
       "1019   00:00:02           0      Late   07:59:58  \n",
       "20201  01:17:08          16      Late   06:42:52  "
      ],
      "text/html": "<div>\n<style scoped>\n    .dataframe tbody tr th:only-of-type {\n        vertical-align: middle;\n    }\n\n    .dataframe tbody tr th {\n        vertical-align: top;\n    }\n\n    .dataframe thead th {\n        text-align: right;\n    }\n</style>\n<table border=\"1\" class=\"dataframe\">\n  <thead>\n    <tr style=\"text-align: right;\">\n      <th></th>\n      <th>name</th>\n      <th>first_punch</th>\n      <th>emotion</th>\n      <th>date</th>\n      <th>last_punch</th>\n      <th>spent</th>\n      <th>percentile</th>\n      <th>remarks</th>\n      <th>deficiency</th>\n    </tr>\n    <tr>\n      <th>id</th>\n      <th></th>\n      <th></th>\n      <th></th>\n      <th></th>\n      <th></th>\n      <th></th>\n      <th></th>\n      <th></th>\n      <th></th>\n    </tr>\n  </thead>\n  <tbody>\n    <tr>\n      <th>102</th>\n      <td>Mahfuzul Alam</td>\n      <td>13:25:29</td>\n      <td>happy</td>\n      <td>2021-02-01</td>\n      <td>13:25:57</td>\n      <td>00:00:27</td>\n      <td>0</td>\n      <td>Half Day</td>\n      <td>07:59:33</td>\n    </tr>\n    <tr>\n      <th>105</th>\n      <td>Arif Raihan</td>\n      <td>13:25:44</td>\n      <td>sad</td>\n      <td>2021-02-01</td>\n      <td>13:25:44</td>\n      <td>00:00:00</td>\n      <td>0</td>\n      <td>Half Day</td>\n      <td>08:00:00</td>\n    </tr>\n    <tr>\n      <th>1002</th>\n      <td>Tania Akter</td>\n      <td>12:14:40</td>\n      <td>neutral</td>\n      <td>2021-02-01</td>\n      <td>13:14:01</td>\n      <td>00:59:21</td>\n      <td>12</td>\n      <td>Late</td>\n      <td>07:00:39</td>\n    </tr>\n    <tr>\n      <th>1003</th>\n      <td>Mohammad Golam Kibria</td>\n      <td>12:42:26</td>\n      <td>sad</td>\n      <td>2021-02-01</td>\n      <td>13:25:44</td>\n      <td>00:43:17</td>\n      <td>9</td>\n      <td>Late</td>\n      <td>07:16:43</td>\n    </tr>\n    <tr>\n      <th>1004</th>\n      <td>Ruhul Azam</td>\n      <td>11:26:53</td>\n      <td>happy</td>\n      <td>2021-02-01</td>\n      <td>11:26:55</td>\n      <td>00:00:01</td>\n      <td>0</td>\n      <td>Normal</td>\n      <td>07:59:59</td>\n    </tr>\n    <tr>\n      <th>1005</th>\n      <td>Anamul Habib</td>\n      <td>13:20:46</td>\n      <td>neutral</td>\n      <td>2021-02-01</td>\n      <td>13:37:34</td>\n      <td>00:16:47</td>\n      <td>3</td>\n      <td>Half Day</td>\n      <td>07:43:13</td>\n    </tr>\n    <tr>\n      <th>1007</th>\n      <td>Umme Hani</td>\n      <td>11:26:06</td>\n      <td>neutral</td>\n      <td>2021-02-01</td>\n      <td>11:26:08</td>\n      <td>00:00:01</td>\n      <td>0</td>\n      <td>Normal</td>\n      <td>07:59:59</td>\n    </tr>\n    <tr>\n      <th>1011</th>\n      <td>Md. Hamiduzzaman</td>\n      <td>12:33:24</td>\n      <td>fear</td>\n      <td>2021-02-01</td>\n      <td>12:33:27</td>\n      <td>00:00:03</td>\n      <td>0</td>\n      <td>Late</td>\n      <td>07:59:57</td>\n    </tr>\n    <tr>\n      <th>1014</th>\n      <td>Ahnaf Serniabat</td>\n      <td>11:31:28</td>\n      <td>neutral</td>\n      <td>2021-02-01</td>\n      <td>13:48:47</td>\n      <td>02:17:19</td>\n      <td>28</td>\n      <td>Late</td>\n      <td>05:42:41</td>\n    </tr>\n    <tr>\n      <th>1015</th>\n      <td>Zarraf Ahmed</td>\n      <td>12:10:53</td>\n      <td>neutral</td>\n      <td>2021-02-01</td>\n      <td>13:25:45</td>\n      <td>01:14:51</td>\n      <td>15</td>\n      <td>Late</td>\n      <td>06:45:09</td>\n    </tr>\n    <tr>\n      <th>1017</th>\n      <td>Monir Ahmed</td>\n      <td>11:51:35</td>\n      <td>neutral</td>\n      <td>2021-02-01</td>\n      <td>11:51:37</td>\n      <td>00:00:01</td>\n      <td>0</td>\n      <td>Late</td>\n      <td>07:59:59</td>\n    </tr>\n    <tr>\n      <th>1018</th>\n      <td>Sabbir Ahmed</td>\n      <td>12:10:30</td>\n      <td>sad</td>\n      <td>2021-02-01</td>\n      <td>14:11:29</td>\n      <td>02:00:58</td>\n      <td>25</td>\n      <td>Late</td>\n      <td>05:59:02</td>\n    </tr>\n    <tr>\n      <th>1019</th>\n      <td>Imran hossain</td>\n      <td>11:40:46</td>\n      <td>neutral</td>\n      <td>2021-02-01</td>\n      <td>11:40:48</td>\n      <td>00:00:02</td>\n      <td>0</td>\n      <td>Late</td>\n      <td>07:59:58</td>\n    </tr>\n    <tr>\n      <th>20201</th>\n      <td>Shakhaout Hossain Shakib</td>\n      <td>12:01:07</td>\n      <td>neutral</td>\n      <td>2021-02-01</td>\n      <td>13:18:15</td>\n      <td>01:17:08</td>\n      <td>16</td>\n      <td>Late</td>\n      <td>06:42:52</td>\n    </tr>\n  </tbody>\n</table>\n</div>"
     },
     "metadata": {},
     "execution_count": 107
    }
   ],
   "source": [
    "report"
   ]
  },
  {
   "cell_type": "code",
   "execution_count": 108,
   "metadata": {},
   "outputs": [],
   "source": [
    "report.reset_index(inplace=True)"
   ]
  },
  {
   "cell_type": "code",
   "execution_count": 109,
   "metadata": {},
   "outputs": [
    {
     "output_type": "execute_result",
     "data": {
      "text/plain": [
       "       id                      name first_punch  emotion        date  \\\n",
       "0     102             Mahfuzul Alam    13:25:29    happy  2021-02-01   \n",
       "1     105               Arif Raihan    13:25:44      sad  2021-02-01   \n",
       "2    1002               Tania Akter    12:14:40  neutral  2021-02-01   \n",
       "3    1003     Mohammad Golam Kibria    12:42:26      sad  2021-02-01   \n",
       "4    1004                Ruhul Azam    11:26:53    happy  2021-02-01   \n",
       "5    1005              Anamul Habib    13:20:46  neutral  2021-02-01   \n",
       "6    1007                 Umme Hani    11:26:06  neutral  2021-02-01   \n",
       "7    1011          Md. Hamiduzzaman    12:33:24     fear  2021-02-01   \n",
       "8    1014           Ahnaf Serniabat    11:31:28  neutral  2021-02-01   \n",
       "9    1015              Zarraf Ahmed    12:10:53  neutral  2021-02-01   \n",
       "10   1017               Monir Ahmed    11:51:35  neutral  2021-02-01   \n",
       "11   1018              Sabbir Ahmed    12:10:30      sad  2021-02-01   \n",
       "12   1019             Imran hossain    11:40:46  neutral  2021-02-01   \n",
       "13  20201  Shakhaout Hossain Shakib    12:01:07  neutral  2021-02-01   \n",
       "\n",
       "   last_punch     spent  percentile   remarks deficiency  \n",
       "0    13:25:57  00:00:27           0  Half Day   07:59:33  \n",
       "1    13:25:44  00:00:00           0  Half Day   08:00:00  \n",
       "2    13:14:01  00:59:21          12      Late   07:00:39  \n",
       "3    13:25:44  00:43:17           9      Late   07:16:43  \n",
       "4    11:26:55  00:00:01           0    Normal   07:59:59  \n",
       "5    13:37:34  00:16:47           3  Half Day   07:43:13  \n",
       "6    11:26:08  00:00:01           0    Normal   07:59:59  \n",
       "7    12:33:27  00:00:03           0      Late   07:59:57  \n",
       "8    13:48:47  02:17:19          28      Late   05:42:41  \n",
       "9    13:25:45  01:14:51          15      Late   06:45:09  \n",
       "10   11:51:37  00:00:01           0      Late   07:59:59  \n",
       "11   14:11:29  02:00:58          25      Late   05:59:02  \n",
       "12   11:40:48  00:00:02           0      Late   07:59:58  \n",
       "13   13:18:15  01:17:08          16      Late   06:42:52  "
      ],
      "text/html": "<div>\n<style scoped>\n    .dataframe tbody tr th:only-of-type {\n        vertical-align: middle;\n    }\n\n    .dataframe tbody tr th {\n        vertical-align: top;\n    }\n\n    .dataframe thead th {\n        text-align: right;\n    }\n</style>\n<table border=\"1\" class=\"dataframe\">\n  <thead>\n    <tr style=\"text-align: right;\">\n      <th></th>\n      <th>id</th>\n      <th>name</th>\n      <th>first_punch</th>\n      <th>emotion</th>\n      <th>date</th>\n      <th>last_punch</th>\n      <th>spent</th>\n      <th>percentile</th>\n      <th>remarks</th>\n      <th>deficiency</th>\n    </tr>\n  </thead>\n  <tbody>\n    <tr>\n      <th>0</th>\n      <td>102</td>\n      <td>Mahfuzul Alam</td>\n      <td>13:25:29</td>\n      <td>happy</td>\n      <td>2021-02-01</td>\n      <td>13:25:57</td>\n      <td>00:00:27</td>\n      <td>0</td>\n      <td>Half Day</td>\n      <td>07:59:33</td>\n    </tr>\n    <tr>\n      <th>1</th>\n      <td>105</td>\n      <td>Arif Raihan</td>\n      <td>13:25:44</td>\n      <td>sad</td>\n      <td>2021-02-01</td>\n      <td>13:25:44</td>\n      <td>00:00:00</td>\n      <td>0</td>\n      <td>Half Day</td>\n      <td>08:00:00</td>\n    </tr>\n    <tr>\n      <th>2</th>\n      <td>1002</td>\n      <td>Tania Akter</td>\n      <td>12:14:40</td>\n      <td>neutral</td>\n      <td>2021-02-01</td>\n      <td>13:14:01</td>\n      <td>00:59:21</td>\n      <td>12</td>\n      <td>Late</td>\n      <td>07:00:39</td>\n    </tr>\n    <tr>\n      <th>3</th>\n      <td>1003</td>\n      <td>Mohammad Golam Kibria</td>\n      <td>12:42:26</td>\n      <td>sad</td>\n      <td>2021-02-01</td>\n      <td>13:25:44</td>\n      <td>00:43:17</td>\n      <td>9</td>\n      <td>Late</td>\n      <td>07:16:43</td>\n    </tr>\n    <tr>\n      <th>4</th>\n      <td>1004</td>\n      <td>Ruhul Azam</td>\n      <td>11:26:53</td>\n      <td>happy</td>\n      <td>2021-02-01</td>\n      <td>11:26:55</td>\n      <td>00:00:01</td>\n      <td>0</td>\n      <td>Normal</td>\n      <td>07:59:59</td>\n    </tr>\n    <tr>\n      <th>5</th>\n      <td>1005</td>\n      <td>Anamul Habib</td>\n      <td>13:20:46</td>\n      <td>neutral</td>\n      <td>2021-02-01</td>\n      <td>13:37:34</td>\n      <td>00:16:47</td>\n      <td>3</td>\n      <td>Half Day</td>\n      <td>07:43:13</td>\n    </tr>\n    <tr>\n      <th>6</th>\n      <td>1007</td>\n      <td>Umme Hani</td>\n      <td>11:26:06</td>\n      <td>neutral</td>\n      <td>2021-02-01</td>\n      <td>11:26:08</td>\n      <td>00:00:01</td>\n      <td>0</td>\n      <td>Normal</td>\n      <td>07:59:59</td>\n    </tr>\n    <tr>\n      <th>7</th>\n      <td>1011</td>\n      <td>Md. Hamiduzzaman</td>\n      <td>12:33:24</td>\n      <td>fear</td>\n      <td>2021-02-01</td>\n      <td>12:33:27</td>\n      <td>00:00:03</td>\n      <td>0</td>\n      <td>Late</td>\n      <td>07:59:57</td>\n    </tr>\n    <tr>\n      <th>8</th>\n      <td>1014</td>\n      <td>Ahnaf Serniabat</td>\n      <td>11:31:28</td>\n      <td>neutral</td>\n      <td>2021-02-01</td>\n      <td>13:48:47</td>\n      <td>02:17:19</td>\n      <td>28</td>\n      <td>Late</td>\n      <td>05:42:41</td>\n    </tr>\n    <tr>\n      <th>9</th>\n      <td>1015</td>\n      <td>Zarraf Ahmed</td>\n      <td>12:10:53</td>\n      <td>neutral</td>\n      <td>2021-02-01</td>\n      <td>13:25:45</td>\n      <td>01:14:51</td>\n      <td>15</td>\n      <td>Late</td>\n      <td>06:45:09</td>\n    </tr>\n    <tr>\n      <th>10</th>\n      <td>1017</td>\n      <td>Monir Ahmed</td>\n      <td>11:51:35</td>\n      <td>neutral</td>\n      <td>2021-02-01</td>\n      <td>11:51:37</td>\n      <td>00:00:01</td>\n      <td>0</td>\n      <td>Late</td>\n      <td>07:59:59</td>\n    </tr>\n    <tr>\n      <th>11</th>\n      <td>1018</td>\n      <td>Sabbir Ahmed</td>\n      <td>12:10:30</td>\n      <td>sad</td>\n      <td>2021-02-01</td>\n      <td>14:11:29</td>\n      <td>02:00:58</td>\n      <td>25</td>\n      <td>Late</td>\n      <td>05:59:02</td>\n    </tr>\n    <tr>\n      <th>12</th>\n      <td>1019</td>\n      <td>Imran hossain</td>\n      <td>11:40:46</td>\n      <td>neutral</td>\n      <td>2021-02-01</td>\n      <td>11:40:48</td>\n      <td>00:00:02</td>\n      <td>0</td>\n      <td>Late</td>\n      <td>07:59:58</td>\n    </tr>\n    <tr>\n      <th>13</th>\n      <td>20201</td>\n      <td>Shakhaout Hossain Shakib</td>\n      <td>12:01:07</td>\n      <td>neutral</td>\n      <td>2021-02-01</td>\n      <td>13:18:15</td>\n      <td>01:17:08</td>\n      <td>16</td>\n      <td>Late</td>\n      <td>06:42:52</td>\n    </tr>\n  </tbody>\n</table>\n</div>"
     },
     "metadata": {},
     "execution_count": 109
    }
   ],
   "source": [
    "report"
   ]
  },
  {
   "cell_type": "code",
   "execution_count": 110,
   "metadata": {},
   "outputs": [],
   "source": [
    "report = report[['date','id','name','first_punch','last_punch','spent','deficiency','percentile','remarks','emotion']]"
   ]
  },
  {
   "cell_type": "code",
   "execution_count": 262,
   "metadata": {},
   "outputs": [
    {
     "output_type": "stream",
     "name": "stdout",
     "text": [
      "<class 'pandas.core.frame.DataFrame'>\nRangeIndex: 14 entries, 0 to 13\nData columns (total 8 columns):\n #   Column       Non-Null Count  Dtype \n---  ------       --------------  ----- \n 0   date         14 non-null     object\n 1   id           14 non-null     int64 \n 2   first_punch  14 non-null     object\n 3   last_punch   14 non-null     object\n 4   spent        14 non-null     object\n 5   deficiency   14 non-null     object\n 6   percentile   14 non-null     int64 \n 7   remarks      14 non-null     object\ndtypes: int64(2), object(6)\nmemory usage: 1.0+ KB\nNone\n"
     ]
    }
   ],
   "source": []
  },
  {
   "cell_type": "code",
   "execution_count": 111,
   "metadata": {},
   "outputs": [
    {
     "output_type": "stream",
     "name": "stdout",
     "text": [
      "          date     id                      name first_punch last_punch  \\\n0   2021-02-01    102             Mahfuzul Alam    13:25:29   13:25:57   \n1   2021-02-01    105               Arif Raihan    13:25:44   13:25:44   \n2   2021-02-01   1002               Tania Akter    12:14:40   13:14:01   \n3   2021-02-01   1003     Mohammad Golam Kibria    12:42:26   13:25:44   \n4   2021-02-01   1004                Ruhul Azam    11:26:53   11:26:55   \n5   2021-02-01   1005              Anamul Habib    13:20:46   13:37:34   \n6   2021-02-01   1007                 Umme Hani    11:26:06   11:26:08   \n7   2021-02-01   1011          Md. Hamiduzzaman    12:33:24   12:33:27   \n8   2021-02-01   1014           Ahnaf Serniabat    11:31:28   13:48:47   \n9   2021-02-01   1015              Zarraf Ahmed    12:10:53   13:25:45   \n10  2021-02-01   1017               Monir Ahmed    11:51:35   11:51:37   \n11  2021-02-01   1018              Sabbir Ahmed    12:10:30   14:11:29   \n12  2021-02-01   1019             Imran hossain    11:40:46   11:40:48   \n13  2021-02-01  20201  Shakhaout Hossain Shakib    12:01:07   13:18:15   \n\n       spent deficiency  percentile   remarks  emotion  \n0   00:00:27   07:59:33           0  Half Day    happy  \n1   00:00:00   08:00:00           0  Half Day      sad  \n2   00:59:21   07:00:39          12      Late  neutral  \n3   00:43:17   07:16:43           9      Late      sad  \n4   00:00:01   07:59:59           0    Normal    happy  \n5   00:16:47   07:43:13           3  Half Day  neutral  \n6   00:00:01   07:59:59           0    Normal  neutral  \n7   00:00:03   07:59:57           0      Late     fear  \n8   02:17:19   05:42:41          28      Late  neutral  \n9   01:14:51   06:45:09          15      Late  neutral  \n10  00:00:01   07:59:59           0      Late  neutral  \n11  02:00:58   05:59:02          25      Late      sad  \n12  00:00:02   07:59:58           0      Late  neutral  \n13  01:17:08   06:42:52          16      Late  neutral  \n"
     ]
    }
   ],
   "source": [
    "print(report)"
   ]
  },
  {
   "cell_type": "code",
   "execution_count": 112,
   "metadata": {},
   "outputs": [],
   "source": [
    "report.to_excel('report1feb.xlsx')"
   ]
  },
  {
   "cell_type": "code",
   "execution_count": null,
   "metadata": {},
   "outputs": [],
   "source": []
  }
 ]
}