{
 "metadata": {
  "language_info": {
   "codemirror_mode": {
    "name": "ipython",
    "version": 3
   },
   "file_extension": ".py",
   "mimetype": "text/x-python",
   "name": "python",
   "nbconvert_exporter": "python",
   "pygments_lexer": "ipython3",
   "version": "3.8.5-final"
  },
  "orig_nbformat": 2,
  "kernelspec": {
   "name": "python3",
   "display_name": "Python 3.8.5 64-bit",
   "metadata": {
    "interpreter": {
     "hash": "31f2aee4e71d21fbe5cf8b01ff0e069b9275f58929596ceb00d14d90e3e16cd6"
    }
   }
  }
 },
 "nbformat": 4,
 "nbformat_minor": 2,
 "cells": [
  {
   "cell_type": "code",
   "execution_count": 1,
   "metadata": {},
   "outputs": [],
   "source": [
    "import pandas as pd"
   ]
  },
  {
   "cell_type": "code",
   "execution_count": 2,
   "metadata": {},
   "outputs": [],
   "source": [
    "a = pd.read_csv('/home/mohammad/Desktop/Git Workspace/pandas_reporting/report1feb.csv')\n"
   ]
  },
  {
   "cell_type": "code",
   "execution_count": 40,
   "metadata": {},
   "outputs": [],
   "source": [
    "df=a[['name']]"
   ]
  },
  {
   "cell_type": "code",
   "execution_count": 46,
   "metadata": {},
   "outputs": [],
   "source": [
    "names = df.values"
   ]
  },
  {
   "cell_type": "code",
   "execution_count": 50,
   "metadata": {},
   "outputs": [],
   "source": [
    "names = [name[-1] for name in names]"
   ]
  },
  {
   "cell_type": "code",
   "execution_count": 51,
   "metadata": {},
   "outputs": [
    {
     "output_type": "execute_result",
     "data": {
      "text/plain": [
       "['Mahfuzul Alam',\n",
       " 'Arif Raihan',\n",
       " 'Tania Akter',\n",
       " 'Mohammad Golam Kibria',\n",
       " 'Ruhul Azam',\n",
       " 'Anamul Habib',\n",
       " 'Umme Hani',\n",
       " 'Md. Hamiduzzaman',\n",
       " 'Ahnaf Serniabat',\n",
       " 'Zarraf Ahmed',\n",
       " 'Monir Ahmed',\n",
       " 'Sabbir Ahmed',\n",
       " 'Imran hossain',\n",
       " 'Shakhaout Hossain Shakib']"
      ]
     },
     "metadata": {},
     "execution_count": 51
    }
   ],
   "source": [
    "names"
   ]
  },
  {
   "cell_type": "code",
   "execution_count": 28,
   "metadata": {},
   "outputs": [],
   "source": [
    "# x=[]\n",
    "\n",
    "# for i in now:\n",
    "#     if i!='  ':\n",
    "#         x.append(i)"
   ]
  },
  {
   "cell_type": "code",
   "execution_count": 30,
   "metadata": {},
   "outputs": [],
   "source": [
    "while '' in now:\n",
    "    now.remove('')"
   ]
  },
  {
   "cell_type": "code",
   "execution_count": 31,
   "metadata": {},
   "outputs": [
    {
     "output_type": "execute_result",
     "data": {
      "text/plain": [
       "['name\\n0',\n",
       " 'Mahfuzul Alam\\n1',\n",
       " 'Arif Raihan\\n2',\n",
       " 'Tania Akter\\n3',\n",
       " 'Mohammad Golam Kibria\\n4',\n",
       " ' Ruhul Azam\\n5',\n",
       " ' Anamul Habib\\n6',\n",
       " 'Umme Hani\\n7',\n",
       " ' Md. Hamiduzzaman\\n8',\n",
       " 'Ahnaf Serniabat\\n9',\n",
       " ' Zarraf Ahmed\\n10',\n",
       " ' Monir Ahmed\\n11',\n",
       " 'Sabbir Ahmed\\n12',\n",
       " ' Imran hossain\\n13',\n",
       " 'Shakhaout Hossain Shakib']"
      ]
     },
     "metadata": {},
     "execution_count": 31
    }
   ],
   "source": [
    "now"
   ]
  },
  {
   "cell_type": "code",
   "execution_count": null,
   "metadata": {},
   "outputs": [],
   "source": []
  }
 ]
}